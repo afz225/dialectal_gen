{
 "cells": [
  {
   "cell_type": "code",
   "execution_count": 2,
   "metadata": {},
   "outputs": [],
   "source": [
    "from datasets import load_dataset,concatenate_datasets\n"
   ]
  },
  {
   "cell_type": "code",
   "execution_count": 6,
   "metadata": {},
   "outputs": [],
   "source": [
    "configs = ['aus', 'col', 'hon', 'nig', 'wel']\n",
    "configs = ['aus']\n",
    "\n",
    "\n",
    "datasets = []\n",
    "\n",
    "init_dataset = load_dataset('GEM/wiki_lingua')\n",
    "init_dataset['train'] = init_dataset['train'].select(range(500))\n",
    "init_dataset['validation'] = init_dataset['validation'].select(range(100))\n",
    "init_dataset['test'] = init_dataset['test'].select(range(100))\n",
    "\n"
   ]
  },
  {
   "cell_type": "code",
   "execution_count": 7,
   "metadata": {},
   "outputs": [],
   "source": [
    "datasets.append(init_dataset)\n",
    "for c in configs:\n",
    "    datasets.append( load_dataset(\"ashabrawy/dia_wikilingua\",c).remove_columns(['Unnamed: 0']))\n",
    "\n",
    "\n"
   ]
  },
  {
   "cell_type": "code",
   "execution_count": 8,
   "metadata": {},
   "outputs": [
    {
     "data": {
      "text/plain": [
       "[DatasetDict({\n",
       "     train: Dataset({\n",
       "         features: ['gem_id', 'gem_parent_id', 'source_language', 'target_language', 'source', 'target', 'references'],\n",
       "         num_rows: 500\n",
       "     })\n",
       "     validation: Dataset({\n",
       "         features: ['gem_id', 'gem_parent_id', 'source_language', 'target_language', 'source', 'target', 'references'],\n",
       "         num_rows: 100\n",
       "     })\n",
       "     test: Dataset({\n",
       "         features: ['gem_id', 'gem_parent_id', 'source_language', 'target_language', 'source', 'target', 'references'],\n",
       "         num_rows: 100\n",
       "     })\n",
       "     sampled_validation: Dataset({\n",
       "         features: ['gem_id', 'gem_parent_id', 'source_language', 'target_language', 'source', 'target', 'references'],\n",
       "         num_rows: 3000\n",
       "     })\n",
       "     sampled_test: Dataset({\n",
       "         features: ['gem_id', 'gem_parent_id', 'source_language', 'target_language', 'source', 'target', 'references'],\n",
       "         num_rows: 3000\n",
       "     })\n",
       " }),\n",
       " DatasetDict({\n",
       "     train: Dataset({\n",
       "         features: ['gem_id', 'gem_parent_id', 'source_language', 'target_language', 'source', 'target', 'references'],\n",
       "         num_rows: 500\n",
       "     })\n",
       "     validation: Dataset({\n",
       "         features: ['gem_id', 'gem_parent_id', 'source_language', 'target_language', 'source', 'target', 'references'],\n",
       "         num_rows: 100\n",
       "     })\n",
       "     test: Dataset({\n",
       "         features: ['gem_id', 'gem_parent_id', 'source_language', 'target_language', 'source', 'target', 'references'],\n",
       "         num_rows: 100\n",
       "     })\n",
       " })]"
      ]
     },
     "execution_count": 8,
     "metadata": {},
     "output_type": "execute_result"
    }
   ],
   "source": [
    "datasets"
   ]
  },
  {
   "cell_type": "code",
   "execution_count": 12,
   "metadata": {},
   "outputs": [
    {
     "data": {
      "text/plain": [
       "{'gem_id': Value(dtype='string', id=None),\n",
       " 'gem_parent_id': Value(dtype='string', id=None),\n",
       " 'source_language': Value(dtype='string', id=None),\n",
       " 'target_language': Value(dtype='string', id=None),\n",
       " 'source': Value(dtype='string', id=None),\n",
       " 'target': Value(dtype='string', id=None),\n",
       " 'references': [Value(dtype='string', id=None)]}"
      ]
     },
     "execution_count": 12,
     "metadata": {},
     "output_type": "execute_result"
    }
   ],
   "source": [
    "datasets[0]['train'].features"
   ]
  },
  {
   "cell_type": "code",
   "execution_count": 14,
   "metadata": {},
   "outputs": [
    {
     "data": {
      "text/plain": [
       "{'gem_id': Value(dtype='string', id=None),\n",
       " 'gem_parent_id': Value(dtype='string', id=None),\n",
       " 'source_language': Value(dtype='string', id=None),\n",
       " 'target_language': Value(dtype='string', id=None),\n",
       " 'source': Value(dtype='string', id=None),\n",
       " 'target': Value(dtype='string', id=None),\n",
       " 'references': Value(dtype='string', id=None)}"
      ]
     },
     "execution_count": 14,
     "metadata": {},
     "output_type": "execute_result"
    }
   ],
   "source": [
    "datasets[1]['train'].features"
   ]
  },
  {
   "cell_type": "code",
   "execution_count": 16,
   "metadata": {},
   "outputs": [
    {
     "data": {
      "application/vnd.jupyter.widget-view+json": {
       "model_id": "7b5d569479344daeacd6bb62d4e6958c",
       "version_major": 2,
       "version_minor": 0
      },
      "text/plain": [
       "Map:   0%|          | 0/500 [00:00<?, ? examples/s]"
      ]
     },
     "metadata": {},
     "output_type": "display_data"
    }
   ],
   "source": [
    "datasets[0]['train'] = datasets[0]['train'].map(lambda example: {\"references\": example[\"references\"][0]})"
   ]
  },
  {
   "cell_type": "code",
   "execution_count": 17,
   "metadata": {},
   "outputs": [
    {
     "data": {
      "text/plain": [
       "{'gem_id': Value(dtype='string', id=None),\n",
       " 'gem_parent_id': Value(dtype='string', id=None),\n",
       " 'source_language': Value(dtype='string', id=None),\n",
       " 'target_language': Value(dtype='string', id=None),\n",
       " 'source': Value(dtype='string', id=None),\n",
       " 'target': Value(dtype='string', id=None),\n",
       " 'references': Value(dtype='string', id=None)}"
      ]
     },
     "execution_count": 17,
     "metadata": {},
     "output_type": "execute_result"
    }
   ],
   "source": [
    "datasets[0]['train'].features"
   ]
  },
  {
   "cell_type": "code",
   "execution_count": 18,
   "metadata": {},
   "outputs": [],
   "source": [
    "# datasets[0]['train'] = datasets[0]['train'].cast(datasets[1]['train'].features)\n",
    "\n",
    "train_dataset = concatenate_datasets([datasets[0]['train'],datasets[1]['train']])\n",
    "# train_dataset = concatenate_datasets([x['train'] for x in datasets]).shuffle(seed=42)\n",
    "# val_dataset = concatenate_datasets([x['validation'] for x in datasets]).shuffle(seed=42)\n",
    "# test_dataset = concatenate_datasets([x['test'] for x in datasets]).shuffle(seed=42)"
   ]
  },
  {
   "cell_type": "code",
   "execution_count": 8,
   "metadata": {},
   "outputs": [],
   "source": [
    "train_datasets = concatenate_datasets([x['train'] for x in datasets])\n",
    "val_datasets = concatenate_datasets([x['validation'] for x in datasets])\n",
    "test_datasets = concatenate_datasets([x['test'] for x in datasets])\n"
   ]
  },
  {
   "cell_type": "code",
   "execution_count": 9,
   "metadata": {},
   "outputs": [
    {
     "data": {
      "text/plain": [
       "Dataset({\n",
       "    features: ['Unnamed: 0', 'gem_id', 'gem_parent_id', 'source_language', 'target_language', 'source', 'target', 'references'],\n",
       "    num_rows: 2500\n",
       "})"
      ]
     },
     "execution_count": 9,
     "metadata": {},
     "output_type": "execute_result"
    }
   ],
   "source": [
    "train_datasets = train_datasets.shuffle()"
   ]
  },
  {
   "cell_type": "code",
   "execution_count": 1,
   "metadata": {},
   "outputs": [
    {
     "name": "stdout",
     "output_type": "stream",
     "text": [
      "hi\n"
     ]
    }
   ],
   "source": [
    "def compute_metrics_dia_wikilingua():\n",
    "    print('hi')\n",
    "\n",
    "ds_name = 'dia_wikilingua'\n",
    "compute_metrics_fn = f'compute_metrics_{ds_name}'\n",
    "\n",
    "\n",
    "def s(fn):\n",
    "    fn()\n",
    "\n",
    "\n",
    "s(eval(compute_metrics_fn))"
   ]
  },
  {
   "cell_type": "code",
   "execution_count": null,
   "metadata": {},
   "outputs": [],
   "source": []
  }
 ],
 "metadata": {
  "kernelspec": {
   "display_name": "Python 3",
   "language": "python",
   "name": "python3"
  },
  "language_info": {
   "codemirror_mode": {
    "name": "ipython",
    "version": 3
   },
   "file_extension": ".py",
   "mimetype": "text/x-python",
   "name": "python",
   "nbconvert_exporter": "python",
   "pygments_lexer": "ipython3",
   "version": "3.10.12"
  }
 },
 "nbformat": 4,
 "nbformat_minor": 2
}
