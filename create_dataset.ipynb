{
 "cells": [
  {
   "cell_type": "code",
   "execution_count": 1,
   "id": "5621bdc5-ddbc-4dbf-b287-96682e59b382",
   "metadata": {},
   "outputs": [],
   "source": [
    "from src import Dialects as value"
   ]
  },
  {
   "cell_type": "code",
   "execution_count": 2,
   "id": "677f4b21-7da0-4cef-83f2-0ef6c72a226e",
   "metadata": {},
   "outputs": [],
   "source": [
    "dialects = [dialect for dialect in dir(value) if dialect[0] == dialect[0].upper() and dialect[0].isalpha() and dialect != \"BaseDialect\" and dialect != \"MultiDialect\"][1:]"
   ]
  },
  {
   "cell_type": "code",
   "execution_count": 13,
   "id": "6e2115a4-445a-4be6-8e7c-015d15524d41",
   "metadata": {},
   "outputs": [
    {
     "data": {
      "text/plain": [
       "52"
      ]
     },
     "execution_count": 13,
     "metadata": {},
     "output_type": "execute_result"
    }
   ],
   "source": [
    "len(dialects)"
   ]
  },
  {
   "cell_type": "code",
   "execution_count": 12,
   "id": "c6cee3c2-91aa-4f71-8db1-626ec29b7ce5",
   "metadata": {},
   "outputs": [
    {
     "data": {
      "text/plain": [
       "['AboriginalDialect',\n",
       " 'AfricanAmericanVernacular',\n",
       " 'AppalachianDialect',\n",
       " 'AustralianDialect',\n",
       " 'AustralianVernacular',\n",
       " 'BahamianDialect',\n",
       " 'BlackSouthAfricanDialect',\n",
       " 'CameroonDialect',\n",
       " 'CapeFlatsDialect',\n",
       " 'ChannelIslandsDialect',\n",
       " 'ChicanoDialect',\n",
       " 'ColloquialAmericanDialect',\n",
       " 'ColloquialSingaporeDialect',\n",
       " 'DialectFromFeatureList',\n",
       " 'DialectFromVector',\n",
       " 'EarlyAfricanAmericanVernacular',\n",
       " 'EastAnglicanDialect',\n",
       " 'FalklandIslandsDialect',\n",
       " 'FijiAcrolect',\n",
       " 'FijiBasilect',\n",
       " 'GhanaianDialect',\n",
       " 'HongKongDialect',\n",
       " 'IndianDialect',\n",
       " 'IndianSouthAfricanDialect',\n",
       " 'IrishDialect',\n",
       " 'JamaicanDialect',\n",
       " 'KenyanDialect',\n",
       " 'LiberianSettlerDialect',\n",
       " 'MalaysianDialect',\n",
       " 'MalteseDialect',\n",
       " 'ManxDialect',\n",
       " 'NewZealandDialect',\n",
       " 'NewfoundlandDialect',\n",
       " 'NigerianDialect',\n",
       " 'NorthEnglandDialect',\n",
       " 'OrkneyShetlandDialect',\n",
       " 'OzarkDialect',\n",
       " 'PakistaniDialect',\n",
       " 'PhilippineDialect',\n",
       " 'RuralAfricanAmericanVernacular',\n",
       " 'ScottishDialect',\n",
       " 'SoutheastAmericanEnglaveDialect',\n",
       " 'SoutheastEnglandDialect',\n",
       " 'SouthwestEnglandDialect',\n",
       " 'SriLankanDialect',\n",
       " 'StHelenaDialect',\n",
       " 'TanzanianDialect',\n",
       " 'TristanDialect',\n",
       " 'UgandanDialect',\n",
       " 'WelshDialect',\n",
       " 'WhiteSouthAfricanDialect',\n",
       " 'WhiteZimbabweanDialect']"
      ]
     },
     "execution_count": 12,
     "metadata": {},
     "output_type": "execute_result"
    }
   ],
   "source": [
    "dialects"
   ]
  },
  {
   "cell_type": "code",
   "execution_count": 3,
   "id": "38d8477d-4d3c-4366-afc8-906a894f8207",
   "metadata": {},
   "outputs": [],
   "source": [
    "dia_codes = ['ABO', 'AFR', 'APP', 'AUS', 'AU1', 'BAH', 'BLA', 'CAM', 'CAP', 'CHA', 'CHI', 'COL', 'CO1', 'DIA', 'DI1', 'EAR', 'EAS', 'FAL', 'FIJ', 'FI1', 'GHA', 'HON', 'IND', 'IN1', 'IRI', 'JAM', 'KEN', 'LIB', 'MAL', 'MA1', 'MAN', 'NEW', 'NE1', 'NIG', 'NOR', 'ORK', 'OZA', 'PAK', 'PHI', 'RUR', 'SCO', 'SOU', 'SO1', 'SO2', 'SRI', 'STH', 'TAN', 'TRI', 'UGA', 'WEL', 'WHI', 'WH1']"
   ]
  },
  {
   "cell_type": "code",
   "execution_count": 4,
   "id": "491efeac-53cb-4a03-835c-065628c1e548",
   "metadata": {},
   "outputs": [
    {
     "name": "stderr",
     "output_type": "stream",
     "text": [
      "/home/afz225/.conda/envs/py3.6/lib/python3.6/site-packages/tqdm/auto.py:22: TqdmWarning: IProgress not found. Please update jupyter and ipywidgets. See https://ipywidgets.readthedocs.io/en/stable/user_install.html\n",
      "  from .autonotebook import tqdm as notebook_tqdm\n"
     ]
    }
   ],
   "source": [
    "from datasets import load_dataset, Dataset, DatasetDict"
   ]
  },
  {
   "cell_type": "code",
   "execution_count": 5,
   "id": "55c6a407-87b0-41b0-9db3-d0882d917eab",
   "metadata": {},
   "outputs": [
    {
     "name": "stderr",
     "output_type": "stream",
     "text": [
      "Reusing dataset super_glue (/scratch/afz225/.cache/super_glue/copa/1.0.2/d040c658e2ddef6934fdd97deb45c777b6ff50c524781ea434e7219b56a428a7)\n",
      "100%|██████████| 3/3 [00:00<00:00, 374.37it/s]\n"
     ]
    }
   ],
   "source": [
    "ds = load_dataset(\"super_glue\", \"copa\", cache_dir=\"/scratch/afz225/.cache\")"
   ]
  },
  {
   "cell_type": "code",
   "execution_count": 12,
   "id": "e92ce450-05ff-44ef-8c5d-b4e4187fa9ab",
   "metadata": {},
   "outputs": [
    {
     "name": "stderr",
     "output_type": "stream",
     "text": [
      "Reusing dataset super_glue (/scratch/afz225/.cache/super_glue/record/1.0.2/d040c658e2ddef6934fdd97deb45c777b6ff50c524781ea434e7219b56a428a7)\n",
      "100%|██████████| 3/3 [00:00<00:00, 530.23it/s]\n"
     ]
    }
   ],
   "source": [
    "ds = load_dataset(\"super_glue\", \"record\", cache_dir=\"/scratch/afz225/.cache\")"
   ]
  },
  {
   "cell_type": "code",
   "execution_count": 5,
   "id": "696233f9-6f48-4b05-89c1-5d50701d91e1",
   "metadata": {},
   "outputs": [
    {
     "name": "stderr",
     "output_type": "stream",
     "text": [
      "Downloading builder script: 100%|██████████| 9.20k/9.20k [00:00<00:00, 26.6MB/s]\n",
      "Downloading metadata: 100%|██████████| 770k/770k [00:00<00:00, 1.02MB/s]\n",
      "Reusing dataset wiki_lingua (/scratch/afz225/.cache/GEM___wiki_lingua/en/2.0.0/84e1fa083237de0bf0016a1934d8b659ecafd567f398012ca5d702b7acc97450)\n",
      "100%|██████████| 5/5 [00:00<00:00, 84.04it/s]\n"
     ]
    }
   ],
   "source": [
    "ds = load_dataset(\"GEM/wiki_lingua\", \"en\", cache_dir=\"/scratch/afz225/.cache\")"
   ]
  },
  {
   "cell_type": "code",
   "execution_count": 9,
   "id": "31c0c9fa-a6b3-4a04-a2ee-9ca037c5bbd5",
   "metadata": {},
   "outputs": [],
   "source": [
    "ds['train'] = Dataset.from_dict(ds['train'][:500])\n",
    "ds['validation'] = Dataset.from_dict(ds['validation'][:100])\n",
    "ds['test'] = Dataset.from_dict(ds['test'][:100])"
   ]
  },
  {
   "cell_type": "code",
   "execution_count": 10,
   "id": "34a7ef6a-4249-4167-a591-065085f0e391",
   "metadata": {},
   "outputs": [],
   "source": [
    "def map_wikilingua(example):\n",
    "    example[\"passage\"] = dia.transform(example[\"source\"])\n",
    "    example[\"query\"] = dia.transform(example[\"target\"])\n",
    "    return example"
   ]
  },
  {
   "cell_type": "code",
   "execution_count": 28,
   "id": "af42ac92-7da6-4b4c-bf92-a203995a400f",
   "metadata": {},
   "outputs": [],
   "source": [
    "def map_record(example):\n",
    "    example[\"passage\"] = dia.transform(example[\"passage\"])\n",
    "    example[\"query\"] = dia.transform(example[\"query\"])\n",
    "    return example"
   ]
  },
  {
   "cell_type": "code",
   "execution_count": 15,
   "id": "90366b39-47f1-4baf-b668-f45cbc3b6d93",
   "metadata": {},
   "outputs": [],
   "source": [
    "def map_copa(example, dia):\n",
    "    example[\"premise\"] = dia.transform(example[\"premise\"])\n",
    "    example[\"choice1\"] = dia.transform(example[\"choice1\"])\n",
    "    example[\"choice2\"] = dia.transform(example[\"choice2\"])\n",
    "    return example"
   ]
  },
  {
   "cell_type": "code",
   "execution_count": 16,
   "id": "b5a700b0-1b03-4713-a7cf-db018476ad87",
   "metadata": {},
   "outputs": [],
   "source": [
    "import os"
   ]
  },
  {
   "cell_type": "code",
   "execution_count": 11,
   "id": "78c0453b-29ca-49dd-a1e6-dc8d83df7052",
   "metadata": {},
   "outputs": [
    {
     "name": "stderr",
     "output_type": "stream",
     "text": [
      "#0:   0%|          | 0/100 [00:00<?, ?ex/s]\n",
      "#1:   0%|          | 0/100 [00:00<?, ?ex/s]\u001b[A\n",
      "\n",
      "#2:   0%|          | 0/100 [00:00<?, ?ex/s]\u001b[A\u001b[A\n",
      "\n",
      "\n",
      "#3:   0%|          | 0/100 [00:00<?, ?ex/s]\u001b[A\u001b[A\u001b[A\n",
      "\n",
      "\n",
      "\n",
      "#4:   0%|          | 0/100 [00:00<?, ?ex/s]\u001b[A\u001b[A\u001b[A\u001b[A\n",
      "#1:   1%|          | 1/100 [00:05<09:39,  5.85s/ex]\u001b[A\n",
      "#0:   1%|          | 1/100 [00:09<15:39,  9.49s/ex]\u001b[A\n",
      "\n",
      "\n",
      "\n",
      "#4:   1%|          | 1/100 [00:12<21:19, 12.92s/ex]\u001b[A\u001b[A\u001b[A\u001b[A\n",
      "#1:   3%|▎         | 3/100 [00:15<08:21,  5.17s/ex]\u001b[A\n",
      "\n",
      "\n",
      "#0:   2%|▏         | 2/100 [00:17<14:15,  8.73s/ex]\u001b[A\u001b[A\u001b[A\n",
      "\n",
      "\n",
      "\n",
      "#4:   2%|▏         | 2/100 [00:19<16:05,  9.85s/ex]\u001b[A\u001b[A\u001b[A\u001b[A\n"
     ]
    },
    {
     "ename": "KeyboardInterrupt",
     "evalue": "",
     "output_type": "error",
     "traceback": [
      "\u001b[0;31m---------------------------------------------------------------------------\u001b[0m",
      "\u001b[0;31mKeyboardInterrupt\u001b[0m                         Traceback (most recent call last)",
      "\u001b[0;32m<ipython-input-11-ccde47a13f39>\u001b[0m in \u001b[0;36m<module>\u001b[0;34m\u001b[0m\n\u001b[1;32m      2\u001b[0m     \u001b[0mdia\u001b[0m \u001b[0;34m=\u001b[0m \u001b[0mgetattr\u001b[0m\u001b[0;34m(\u001b[0m\u001b[0mvalue\u001b[0m\u001b[0;34m,\u001b[0m \u001b[0mdialect\u001b[0m\u001b[0;34m)\u001b[0m\u001b[0;34m(\u001b[0m\u001b[0;34m)\u001b[0m\u001b[0;34m\u001b[0m\u001b[0;34m\u001b[0m\u001b[0m\n\u001b[1;32m      3\u001b[0m     \u001b[0;31m# try:\u001b[0m\u001b[0;34m\u001b[0m\u001b[0;34m\u001b[0m\u001b[0;34m\u001b[0m\u001b[0m\n\u001b[0;32m----> 4\u001b[0;31m     \u001b[0mdia_ds\u001b[0m \u001b[0;34m=\u001b[0m \u001b[0mds\u001b[0m\u001b[0;34m.\u001b[0m\u001b[0mmap\u001b[0m\u001b[0;34m(\u001b[0m\u001b[0mmap_wikilingua\u001b[0m\u001b[0;34m,\u001b[0m \u001b[0mnum_proc\u001b[0m\u001b[0;34m=\u001b[0m\u001b[0;36m5\u001b[0m\u001b[0;34m)\u001b[0m\u001b[0;34m\u001b[0m\u001b[0;34m\u001b[0m\u001b[0m\n\u001b[0m\u001b[1;32m      5\u001b[0m     \u001b[0;31m# except:\u001b[0m\u001b[0;34m\u001b[0m\u001b[0;34m\u001b[0m\u001b[0;34m\u001b[0m\u001b[0m\n\u001b[1;32m      6\u001b[0m     \u001b[0;31m#     continue\u001b[0m\u001b[0;34m\u001b[0m\u001b[0;34m\u001b[0m\u001b[0;34m\u001b[0m\u001b[0m\n",
      "\u001b[0;32m~/.conda/envs/py3.6/lib/python3.6/site-packages/datasets/dataset_dict.py\u001b[0m in \u001b[0;36mmap\u001b[0;34m(self, function, with_indices, with_rank, input_columns, batched, batch_size, drop_last_batch, remove_columns, keep_in_memory, load_from_cache_file, cache_file_names, writer_batch_size, features, disable_nullable, fn_kwargs, num_proc, desc)\u001b[0m\n\u001b[1;32m    788\u001b[0m                     \u001b[0mdesc\u001b[0m\u001b[0;34m=\u001b[0m\u001b[0mdesc\u001b[0m\u001b[0;34m,\u001b[0m\u001b[0;34m\u001b[0m\u001b[0;34m\u001b[0m\u001b[0m\n\u001b[1;32m    789\u001b[0m                 )\n\u001b[0;32m--> 790\u001b[0;31m                 \u001b[0;32mfor\u001b[0m \u001b[0mk\u001b[0m\u001b[0;34m,\u001b[0m \u001b[0mdataset\u001b[0m \u001b[0;32min\u001b[0m \u001b[0mself\u001b[0m\u001b[0;34m.\u001b[0m\u001b[0mitems\u001b[0m\u001b[0;34m(\u001b[0m\u001b[0;34m)\u001b[0m\u001b[0;34m\u001b[0m\u001b[0;34m\u001b[0m\u001b[0m\n\u001b[0m\u001b[1;32m    791\u001b[0m             }\n\u001b[1;32m    792\u001b[0m         )\n",
      "\u001b[0;32m~/.conda/envs/py3.6/lib/python3.6/site-packages/datasets/dataset_dict.py\u001b[0m in \u001b[0;36m<dictcomp>\u001b[0;34m(.0)\u001b[0m\n\u001b[1;32m    788\u001b[0m                     \u001b[0mdesc\u001b[0m\u001b[0;34m=\u001b[0m\u001b[0mdesc\u001b[0m\u001b[0;34m,\u001b[0m\u001b[0;34m\u001b[0m\u001b[0;34m\u001b[0m\u001b[0m\n\u001b[1;32m    789\u001b[0m                 )\n\u001b[0;32m--> 790\u001b[0;31m                 \u001b[0;32mfor\u001b[0m \u001b[0mk\u001b[0m\u001b[0;34m,\u001b[0m \u001b[0mdataset\u001b[0m \u001b[0;32min\u001b[0m \u001b[0mself\u001b[0m\u001b[0;34m.\u001b[0m\u001b[0mitems\u001b[0m\u001b[0;34m(\u001b[0m\u001b[0;34m)\u001b[0m\u001b[0;34m\u001b[0m\u001b[0;34m\u001b[0m\u001b[0m\n\u001b[0m\u001b[1;32m    791\u001b[0m             }\n\u001b[1;32m    792\u001b[0m         )\n",
      "\u001b[0;32m~/.conda/envs/py3.6/lib/python3.6/site-packages/datasets/arrow_dataset.py\u001b[0m in \u001b[0;36mmap\u001b[0;34m(self, function, with_indices, with_rank, input_columns, batched, batch_size, drop_last_batch, remove_columns, keep_in_memory, load_from_cache_file, cache_file_name, writer_batch_size, features, disable_nullable, fn_kwargs, num_proc, suffix_template, new_fingerprint, desc)\u001b[0m\n\u001b[1;32m   2498\u001b[0m \u001b[0;34m\u001b[0m\u001b[0m\n\u001b[1;32m   2499\u001b[0m                     \u001b[0;32mfor\u001b[0m \u001b[0mindex\u001b[0m\u001b[0;34m,\u001b[0m \u001b[0masync_result\u001b[0m \u001b[0;32min\u001b[0m \u001b[0mresults\u001b[0m\u001b[0;34m.\u001b[0m\u001b[0mitems\u001b[0m\u001b[0;34m(\u001b[0m\u001b[0;34m)\u001b[0m\u001b[0;34m:\u001b[0m\u001b[0;34m\u001b[0m\u001b[0;34m\u001b[0m\u001b[0m\n\u001b[0;32m-> 2500\u001b[0;31m                         \u001b[0mtransformed_shards\u001b[0m\u001b[0;34m[\u001b[0m\u001b[0mindex\u001b[0m\u001b[0;34m]\u001b[0m \u001b[0;34m=\u001b[0m \u001b[0masync_result\u001b[0m\u001b[0;34m.\u001b[0m\u001b[0mget\u001b[0m\u001b[0;34m(\u001b[0m\u001b[0;34m)\u001b[0m\u001b[0;34m\u001b[0m\u001b[0;34m\u001b[0m\u001b[0m\n\u001b[0m\u001b[1;32m   2501\u001b[0m \u001b[0;34m\u001b[0m\u001b[0m\n\u001b[1;32m   2502\u001b[0m             assert (\n",
      "\u001b[0;32m~/.conda/envs/py3.6/lib/python3.6/site-packages/multiprocess/pool.py\u001b[0m in \u001b[0;36mget\u001b[0;34m(self, timeout)\u001b[0m\n\u001b[1;32m    636\u001b[0m \u001b[0;34m\u001b[0m\u001b[0m\n\u001b[1;32m    637\u001b[0m     \u001b[0;32mdef\u001b[0m \u001b[0mget\u001b[0m\u001b[0;34m(\u001b[0m\u001b[0mself\u001b[0m\u001b[0;34m,\u001b[0m \u001b[0mtimeout\u001b[0m\u001b[0;34m=\u001b[0m\u001b[0;32mNone\u001b[0m\u001b[0;34m)\u001b[0m\u001b[0;34m:\u001b[0m\u001b[0;34m\u001b[0m\u001b[0;34m\u001b[0m\u001b[0m\n\u001b[0;32m--> 638\u001b[0;31m         \u001b[0mself\u001b[0m\u001b[0;34m.\u001b[0m\u001b[0mwait\u001b[0m\u001b[0;34m(\u001b[0m\u001b[0mtimeout\u001b[0m\u001b[0;34m)\u001b[0m\u001b[0;34m\u001b[0m\u001b[0;34m\u001b[0m\u001b[0m\n\u001b[0m\u001b[1;32m    639\u001b[0m         \u001b[0;32mif\u001b[0m \u001b[0;32mnot\u001b[0m \u001b[0mself\u001b[0m\u001b[0;34m.\u001b[0m\u001b[0mready\u001b[0m\u001b[0;34m(\u001b[0m\u001b[0;34m)\u001b[0m\u001b[0;34m:\u001b[0m\u001b[0;34m\u001b[0m\u001b[0;34m\u001b[0m\u001b[0m\n\u001b[1;32m    640\u001b[0m             \u001b[0;32mraise\u001b[0m \u001b[0mTimeoutError\u001b[0m\u001b[0;34m\u001b[0m\u001b[0;34m\u001b[0m\u001b[0m\n",
      "\u001b[0;32m~/.conda/envs/py3.6/lib/python3.6/site-packages/multiprocess/pool.py\u001b[0m in \u001b[0;36mwait\u001b[0;34m(self, timeout)\u001b[0m\n\u001b[1;32m    633\u001b[0m \u001b[0;34m\u001b[0m\u001b[0m\n\u001b[1;32m    634\u001b[0m     \u001b[0;32mdef\u001b[0m \u001b[0mwait\u001b[0m\u001b[0;34m(\u001b[0m\u001b[0mself\u001b[0m\u001b[0;34m,\u001b[0m \u001b[0mtimeout\u001b[0m\u001b[0;34m=\u001b[0m\u001b[0;32mNone\u001b[0m\u001b[0;34m)\u001b[0m\u001b[0;34m:\u001b[0m\u001b[0;34m\u001b[0m\u001b[0;34m\u001b[0m\u001b[0m\n\u001b[0;32m--> 635\u001b[0;31m         \u001b[0mself\u001b[0m\u001b[0;34m.\u001b[0m\u001b[0m_event\u001b[0m\u001b[0;34m.\u001b[0m\u001b[0mwait\u001b[0m\u001b[0;34m(\u001b[0m\u001b[0mtimeout\u001b[0m\u001b[0;34m)\u001b[0m\u001b[0;34m\u001b[0m\u001b[0;34m\u001b[0m\u001b[0m\n\u001b[0m\u001b[1;32m    636\u001b[0m \u001b[0;34m\u001b[0m\u001b[0m\n\u001b[1;32m    637\u001b[0m     \u001b[0;32mdef\u001b[0m \u001b[0mget\u001b[0m\u001b[0;34m(\u001b[0m\u001b[0mself\u001b[0m\u001b[0;34m,\u001b[0m \u001b[0mtimeout\u001b[0m\u001b[0;34m=\u001b[0m\u001b[0;32mNone\u001b[0m\u001b[0;34m)\u001b[0m\u001b[0;34m:\u001b[0m\u001b[0;34m\u001b[0m\u001b[0;34m\u001b[0m\u001b[0m\n",
      "\u001b[0;32m~/.conda/envs/py3.6/lib/python3.6/threading.py\u001b[0m in \u001b[0;36mwait\u001b[0;34m(self, timeout)\u001b[0m\n\u001b[1;32m    549\u001b[0m             \u001b[0msignaled\u001b[0m \u001b[0;34m=\u001b[0m \u001b[0mself\u001b[0m\u001b[0;34m.\u001b[0m\u001b[0m_flag\u001b[0m\u001b[0;34m\u001b[0m\u001b[0;34m\u001b[0m\u001b[0m\n\u001b[1;32m    550\u001b[0m             \u001b[0;32mif\u001b[0m \u001b[0;32mnot\u001b[0m \u001b[0msignaled\u001b[0m\u001b[0;34m:\u001b[0m\u001b[0;34m\u001b[0m\u001b[0;34m\u001b[0m\u001b[0m\n\u001b[0;32m--> 551\u001b[0;31m                 \u001b[0msignaled\u001b[0m \u001b[0;34m=\u001b[0m \u001b[0mself\u001b[0m\u001b[0;34m.\u001b[0m\u001b[0m_cond\u001b[0m\u001b[0;34m.\u001b[0m\u001b[0mwait\u001b[0m\u001b[0;34m(\u001b[0m\u001b[0mtimeout\u001b[0m\u001b[0;34m)\u001b[0m\u001b[0;34m\u001b[0m\u001b[0;34m\u001b[0m\u001b[0m\n\u001b[0m\u001b[1;32m    552\u001b[0m             \u001b[0;32mreturn\u001b[0m \u001b[0msignaled\u001b[0m\u001b[0;34m\u001b[0m\u001b[0;34m\u001b[0m\u001b[0m\n\u001b[1;32m    553\u001b[0m \u001b[0;34m\u001b[0m\u001b[0m\n",
      "\u001b[0;32m~/.conda/envs/py3.6/lib/python3.6/threading.py\u001b[0m in \u001b[0;36mwait\u001b[0;34m(self, timeout)\u001b[0m\n\u001b[1;32m    293\u001b[0m         \u001b[0;32mtry\u001b[0m\u001b[0;34m:\u001b[0m    \u001b[0;31m# restore state no matter what (e.g., KeyboardInterrupt)\u001b[0m\u001b[0;34m\u001b[0m\u001b[0;34m\u001b[0m\u001b[0m\n\u001b[1;32m    294\u001b[0m             \u001b[0;32mif\u001b[0m \u001b[0mtimeout\u001b[0m \u001b[0;32mis\u001b[0m \u001b[0;32mNone\u001b[0m\u001b[0;34m:\u001b[0m\u001b[0;34m\u001b[0m\u001b[0;34m\u001b[0m\u001b[0m\n\u001b[0;32m--> 295\u001b[0;31m                 \u001b[0mwaiter\u001b[0m\u001b[0;34m.\u001b[0m\u001b[0macquire\u001b[0m\u001b[0;34m(\u001b[0m\u001b[0;34m)\u001b[0m\u001b[0;34m\u001b[0m\u001b[0;34m\u001b[0m\u001b[0m\n\u001b[0m\u001b[1;32m    296\u001b[0m                 \u001b[0mgotit\u001b[0m \u001b[0;34m=\u001b[0m \u001b[0;32mTrue\u001b[0m\u001b[0;34m\u001b[0m\u001b[0;34m\u001b[0m\u001b[0m\n\u001b[1;32m    297\u001b[0m             \u001b[0;32melse\u001b[0m\u001b[0;34m:\u001b[0m\u001b[0;34m\u001b[0m\u001b[0;34m\u001b[0m\u001b[0m\n",
      "\u001b[0;31mKeyboardInterrupt\u001b[0m: "
     ]
    }
   ],
   "source": [
    "for i, dialect in enumerate(dialects):\n",
    "    dia = getattr(value, dialect)()\n",
    "    # try:\n",
    "    dia_ds = ds.map(map_wikilingua, num_proc=5)\n",
    "    # except:\n",
    "    #     continue\n",
    "    for split in [\"train\", \"test\", \"validation\"]:\n",
    "        try:\n",
    "            os.mkdir(f\"dia_wikilingua/{dia_codes[i]}\")\n",
    "        except:\n",
    "            print(\"dir_exists\")\n",
    "        dia_ds[split].to_csv(f\"dia_wikilingua/{dia_codes[i]}/{split}.csv\")\n",
    "        "
   ]
  },
  {
   "cell_type": "code",
   "execution_count": 29,
   "id": "0fbf38ab-a9a2-42fd-b42e-806509700142",
   "metadata": {},
   "outputs": [
    {
     "name": "stderr",
     "output_type": "stream",
     "text": [
      "#0:   0%|          | 0/200 [00:00<?, ?ex/s]\n",
      "#1:   0%|          | 0/200 [00:00<?, ?ex/s]\u001b[A\n",
      "\n",
      "#2:   0%|          | 0/200 [00:00<?, ?ex/s]\u001b[A\u001b[A\n",
      "\n",
      "\n",
      "\n",
      "#4:   0%|          | 0/200 [00:00<?, ?ex/s]\u001b[A\u001b[A\u001b[A\u001b[A\n",
      "\n",
      "\n",
      "#3:   0%|          | 0/200 [00:00<?, ?ex/s]\u001b[A\u001b[A\u001b[A\n",
      "\n",
      "\n",
      "#0:   0%|          | 1/200 [00:02<09:22,  2.83s/ex]\u001b[A\u001b[A\u001b[A\n",
      "\n",
      "#2:   0%|          | 1/200 [00:03<11:31,  3.48s/ex]\u001b[A\u001b[A\n",
      "#1:   0%|          | 1/200 [00:04<16:07,  4.86s/ex]\u001b[A\n",
      "\n",
      "\n",
      "\n",
      "#4:   0%|          | 1/200 [00:05<16:48,  5.07s/ex]\u001b[A\u001b[A\u001b[A\u001b[A\n",
      "\n",
      "\n",
      "#0:   1%|          | 2/200 [00:06<11:47,  3.57s/ex]\u001b[A\u001b[A\u001b[A\n",
      "\n",
      "#2:   1%|          | 2/200 [00:07<11:43,  3.55s/ex]\u001b[A\u001b[A\n",
      "\n",
      "\n",
      "#3:   2%|▏         | 3/200 [00:09<10:49,  3.30s/ex]\u001b[A\u001b[A\u001b[A\n",
      "\n",
      "#2:   2%|▏         | 3/200 [00:09<10:14,  3.12s/ex]\u001b[A\u001b[A\n",
      "#1:   1%|          | 2/200 [00:09<16:10,  4.90s/ex]\u001b[A\n",
      "\n",
      "\n",
      "\n",
      "#0:   2%|▏         | 3/200 [00:11<12:38,  3.85s/ex]\u001b[A\u001b[A\u001b[A\u001b[A\n",
      "\n",
      "\n",
      "#3:   2%|▏         | 4/200 [00:11<09:22,  2.87s/ex]\u001b[A\u001b[A\u001b[A\n",
      "\n",
      "#2:   2%|▏         | 4/200 [00:11<08:49,  2.70s/ex]\u001b[A\u001b[A\n",
      "#1:   2%|▏         | 3/200 [00:12<12:17,  3.74s/ex]\u001b[A\n",
      "\n",
      "#2:   2%|▎         | 5/200 [00:13<07:57,  2.45s/ex]\u001b[A\u001b[A\n",
      "\n",
      "\n",
      "#0:   2%|▏         | 4/200 [00:15<13:00,  3.98s/ex]\u001b[A\u001b[A\u001b[A\n",
      "\n",
      "\n",
      "\n",
      "#4:   2%|▏         | 3/200 [00:15<17:01,  5.19s/ex]\u001b[A\u001b[A\u001b[A\u001b[A\n",
      "\n",
      "#2:   3%|▎         | 6/200 [00:15<07:24,  2.29s/ex]\u001b[A\u001b[A\n",
      "#1:   2%|▏         | 4/200 [00:16<12:53,  3.94s/ex]\u001b[A\n",
      "\n",
      "\n",
      "#3:   3%|▎         | 6/200 [00:18<11:18,  3.50s/ex]\u001b[A\u001b[A\u001b[A\n",
      "\n",
      "\n",
      "\n",
      "#0:   2%|▎         | 5/200 [00:19<13:10,  4.06s/ex]\u001b[A\u001b[A\u001b[A\u001b[A\n",
      "\n",
      "#2:   4%|▎         | 7/200 [00:19<08:54,  2.77s/ex]\u001b[A\u001b[A\n",
      "#1:   2%|▎         | 5/200 [00:20<13:10,  4.05s/ex]\u001b[A\n",
      "\n",
      "\n",
      "\n",
      "#0:   3%|▎         | 6/200 [00:23<13:11,  4.08s/ex]\u001b[A\u001b[A\u001b[A\u001b[A\n",
      "#1:   3%|▎         | 6/200 [00:23<11:52,  3.67s/ex]\u001b[A\n",
      "\n",
      "\n",
      "#3:   4%|▎         | 7/200 [00:24<12:59,  4.04s/ex]\u001b[A\u001b[A\u001b[A\n",
      "\n",
      "#2:   4%|▍         | 8/200 [00:24<10:50,  3.39s/ex]\u001b[A\u001b[A\n",
      "\n",
      "\n",
      "\n",
      "#4:   3%|▎         | 6/200 [00:25<12:26,  3.85s/ex]\u001b[A\u001b[A\u001b[A\u001b[A\n",
      "\n",
      "#2:   4%|▍         | 9/200 [00:26<09:32,  3.00s/ex]\u001b[A\u001b[A\n",
      "#0:   4%|▎         | 7/200 [00:27<13:10,  4.10s/ex]\u001b[A\n",
      "\n",
      "\n",
      "\n",
      "#4:   4%|▎         | 7/200 [00:28<11:08,  3.46s/ex]\u001b[A\u001b[A\u001b[A\u001b[A\n",
      "\n",
      "\n",
      "#3:   4%|▍         | 8/200 [00:28<13:17,  4.15s/ex]\u001b[A\u001b[A\u001b[A\n",
      "\n",
      "#2:   5%|▌         | 10/200 [00:30<10:17,  3.25s/ex]\u001b[A\u001b[A\n",
      "#1:   4%|▍         | 8/200 [00:31<12:04,  3.78s/ex]\u001b[A\n",
      "\n",
      "\n",
      "\n",
      "#0:   4%|▍         | 8/200 [00:32<13:18,  4.16s/ex]\u001b[A\u001b[A\u001b[A\u001b[A\n",
      "\n",
      "\n",
      "#3:   4%|▍         | 9/200 [00:32<13:23,  4.21s/ex]\u001b[A\u001b[A\u001b[A\n",
      "\n",
      "#2:   6%|▌         | 11/200 [00:33<10:16,  3.26s/ex]\u001b[A\u001b[A\n",
      "#1:   4%|▍         | 9/200 [00:34<11:11,  3.51s/ex]\u001b[A\n",
      "\n",
      "\n",
      "\n",
      "#0:   4%|▍         | 9/200 [00:36<13:20,  4.19s/ex]\u001b[A\u001b[A\u001b[A\u001b[A\n",
      "\n",
      "#2:   6%|▌         | 12/200 [00:36<10:12,  3.26s/ex]\u001b[A\u001b[A\n",
      "\n",
      "\n",
      "#3:   5%|▌         | 10/200 [00:37<13:29,  4.26s/ex]\u001b[A\u001b[A\u001b[A\n",
      "\n",
      "\n",
      "\n",
      "#4:   5%|▌         | 10/200 [00:37<09:59,  3.15s/ex]\u001b[A\u001b[A\u001b[A\u001b[A\n",
      "#0:   5%|▌         | 10/200 [00:39<12:26,  3.93s/ex]\u001b[A\n",
      "\n",
      "#2:   6%|▋         | 13/200 [00:39<10:06,  3.24s/ex]\u001b[A\u001b[A\n",
      "#1:   6%|▌         | 11/200 [00:40<10:32,  3.35s/ex]\u001b[A\n",
      "\n",
      "\n",
      "#0:   6%|▌         | 11/200 [00:42<11:31,  3.66s/ex]\u001b[A\u001b[A\u001b[A\n",
      "\n",
      "\n",
      "\n",
      "#4:   6%|▌         | 11/200 [00:42<11:39,  3.70s/ex]\u001b[A\u001b[A\u001b[A\u001b[A\n",
      "\n",
      "#2:   7%|▋         | 14/200 [00:43<10:04,  3.25s/ex]\u001b[A\u001b[A\n",
      "#1:   6%|▌         | 12/200 [00:44<11:15,  3.59s/ex]\u001b[A\n",
      "\n",
      "\n",
      "#0:   6%|▌         | 12/200 [00:45<11:00,  3.52s/ex]\u001b[A\u001b[A\u001b[A\n",
      "\n",
      "\n",
      "\n",
      "#4:   6%|▌         | 12/200 [00:46<11:31,  3.68s/ex]\u001b[A\u001b[A\u001b[A\u001b[A\n",
      "\n",
      "#2:   8%|▊         | 15/200 [00:46<10:02,  3.26s/ex]\u001b[A\u001b[A\n",
      "#1:   6%|▋         | 13/200 [00:47<10:32,  3.38s/ex]\u001b[A\n",
      "\n",
      "\n",
      "#0:   6%|▋         | 13/200 [00:49<10:51,  3.48s/ex]\u001b[A\u001b[A\u001b[A\n",
      "\n",
      "\n",
      "\n",
      "#4:   6%|▋         | 13/200 [00:49<11:25,  3.67s/ex]\u001b[A\u001b[A\u001b[A\u001b[A\n",
      "\n",
      "#2:   8%|▊         | 16/200 [00:50<10:15,  3.35s/ex]\u001b[A\u001b[A\n",
      "#1:   7%|▋         | 14/200 [00:50<09:59,  3.22s/ex]\u001b[A\n",
      "\n",
      "\n",
      "#0:   7%|▋         | 14/200 [00:52<10:48,  3.49s/ex]\u001b[A\u001b[A\u001b[A\n",
      "#1:   8%|▊         | 15/200 [00:53<09:31,  3.09s/ex]\u001b[A\n",
      "\n",
      "\n",
      "\n",
      "#4:   7%|▋         | 14/200 [00:54<12:00,  3.87s/ex]\u001b[A\u001b[A\u001b[A\u001b[A\n",
      "\n",
      "#0:   8%|▊         | 15/200 [00:55<10:04,  3.26s/ex]\u001b[A\u001b[A\n",
      "\n",
      "\n",
      "#3:   8%|▊         | 15/200 [00:56<12:26,  4.03s/ex]\u001b[A\u001b[A\u001b[A\n",
      "#1:   8%|▊         | 16/200 [00:58<11:04,  3.61s/ex]\u001b[A\n",
      "\n",
      "#2:   9%|▉         | 18/200 [00:58<11:09,  3.68s/ex]\u001b[A\u001b[A\n",
      "\n",
      "\n",
      "\n",
      "#0:   8%|▊         | 16/200 [01:00<11:39,  3.80s/ex]\u001b[A\u001b[A\u001b[A\u001b[A\n",
      "\n",
      "\n",
      "#3:   8%|▊         | 16/200 [01:01<12:50,  4.19s/ex]\u001b[A\u001b[A\u001b[A\n",
      "\n",
      "\n",
      "\n",
      "#4:   8%|▊         | 16/200 [01:01<11:08,  3.64s/ex]\u001b[A\u001b[A\u001b[A\u001b[A\n",
      "#1:   8%|▊         | 17/200 [01:02<12:02,  3.95s/ex]\u001b[A\n",
      "\n",
      "#0:   8%|▊         | 17/200 [01:04<11:30,  3.77s/ex]\u001b[A\u001b[A\n",
      "\n",
      "\n",
      "\n",
      "#4:   8%|▊         | 17/200 [01:04<10:24,  3.42s/ex]\u001b[A\u001b[A\u001b[A\u001b[A\n",
      "\n",
      "#2:  10%|█         | 20/200 [01:05<10:37,  3.54s/ex]\u001b[A\u001b[A\n",
      "\n",
      "\n",
      "#3:   8%|▊         | 17/200 [01:05<13:13,  4.34s/ex]\u001b[A\u001b[A\u001b[A\n",
      "#1:   9%|▉         | 18/200 [01:06<11:15,  3.71s/ex]\u001b[A\n",
      "\n",
      "\n",
      "\n",
      "#0:   9%|▉         | 18/200 [01:07<11:24,  3.76s/ex]\u001b[A\u001b[A\u001b[A\u001b[A\n",
      "#1:  10%|▉         | 19/200 [01:09<10:50,  3.60s/ex]\u001b[A\n",
      "\n",
      "#2:  10%|█         | 21/200 [01:09<10:57,  3.67s/ex]\u001b[A\u001b[A\n",
      "\n",
      "\n",
      "\n",
      "#4:  10%|▉         | 19/200 [01:10<09:28,  3.14s/ex]\u001b[A\u001b[A\u001b[A\u001b[A\n",
      "\n",
      "\n",
      "#0:  10%|▉         | 19/200 [01:11<11:22,  3.77s/ex]\u001b[A\u001b[A\u001b[A\n",
      "\n",
      "#2:  11%|█         | 22/200 [01:12<09:59,  3.37s/ex]\u001b[A\u001b[A\n",
      "#1:  10%|█         | 20/200 [01:12<10:32,  3.51s/ex]\u001b[A\n",
      "\n",
      "\n",
      "\n",
      "#4:  10%|█         | 20/200 [01:13<09:18,  3.10s/ex]\u001b[A\u001b[A\u001b[A\u001b[A\n",
      "\n",
      "\n",
      "#3:  10%|▉         | 19/200 [01:13<12:13,  4.05s/ex]\u001b[A\u001b[A\u001b[A\n",
      "\n",
      "#0:  10%|█         | 20/200 [01:15<11:38,  3.88s/ex]\u001b[A\u001b[A\n",
      "\n",
      "\n",
      "\n",
      "#4:  10%|█         | 21/200 [01:15<09:07,  3.06s/ex]\u001b[A\u001b[A\u001b[A\u001b[A\n",
      "#1:  10%|█         | 21/200 [01:16<10:27,  3.50s/ex]\u001b[A\n",
      "\n",
      "\n",
      "#3:  10%|█         | 20/200 [01:17<11:28,  3.82s/ex]\u001b[A\u001b[A\u001b[A\n",
      "\n",
      "\n",
      "\n",
      "#4:  11%|█         | 22/200 [01:18<08:57,  3.02s/ex]\u001b[A\u001b[A\u001b[A\u001b[A\n",
      "\n",
      "#0:  10%|█         | 21/200 [01:19<11:02,  3.70s/ex]\u001b[A\u001b[A\n",
      "#1:  11%|█         | 22/200 [01:19<10:20,  3.49s/ex]\u001b[A\n",
      "\n",
      "\n",
      "#3:  10%|█         | 21/200 [01:20<10:54,  3.66s/ex]\u001b[A\u001b[A\u001b[A\n",
      "#1:  12%|█▏        | 23/200 [01:22<09:33,  3.24s/ex]\u001b[A\n",
      "\n",
      "\n",
      "\n",
      "#0:  11%|█         | 22/200 [01:22<10:54,  3.68s/ex]\u001b[A\u001b[A\u001b[A\u001b[A\n",
      "\n",
      "#2:  12%|█▎        | 25/200 [01:23<10:55,  3.74s/ex]\u001b[A\u001b[A\n",
      "\n",
      "\n",
      "#3:  11%|█         | 22/200 [01:24<11:00,  3.71s/ex]\u001b[A\u001b[A\u001b[A\n",
      "\n",
      "\n",
      "\n",
      "#4:  12%|█▏        | 24/200 [01:24<08:15,  2.81s/ex]\u001b[A\u001b[A\u001b[A\u001b[A\n",
      "#0:  12%|█▏        | 23/200 [01:26<10:25,  3.53s/ex]\u001b[A\n",
      "\n",
      "\n",
      "#3:  12%|█▏        | 23/200 [01:27<10:21,  3.51s/ex]\u001b[A\u001b[A\u001b[A\n",
      "#1:  12%|█▎        | 25/200 [01:27<08:39,  2.97s/ex]\u001b[A\n",
      "\n",
      "\n",
      "\n",
      "#4:  12%|█▎        | 25/200 [01:27<08:39,  2.97s/ex]\u001b[A\u001b[A\u001b[A\u001b[A\n",
      "\n",
      "#0:  12%|█▏        | 24/200 [01:29<10:08,  3.46s/ex]\u001b[A\u001b[A\n",
      "\n",
      "\n",
      "\n",
      "#4:  13%|█▎        | 26/200 [01:31<09:00,  3.11s/ex]\u001b[A\u001b[A\u001b[A\u001b[A\n",
      "\n",
      "\n",
      "#3:  12%|█▏        | 24/200 [01:31<10:39,  3.63s/ex]\u001b[A\u001b[A\u001b[A\n",
      "\n",
      "#0:  12%|█▎        | 25/200 [01:32<09:53,  3.39s/ex]\u001b[A\u001b[A\n",
      "#1:  13%|█▎        | 26/200 [01:33<10:44,  3.71s/ex]\u001b[A\n",
      "\n",
      "\n",
      "\n",
      "#4:  14%|█▎        | 27/200 [01:34<08:50,  3.07s/ex]\u001b[A\u001b[A\u001b[A\u001b[A\n",
      "\n",
      "\n",
      "#0:  13%|█▎        | 26/200 [01:35<09:44,  3.36s/ex]\u001b[A\u001b[A\u001b[A\n",
      "#1:  14%|█▎        | 27/200 [01:36<10:29,  3.64s/ex]\u001b[A\n",
      "\n",
      "#2:  14%|█▍        | 28/200 [01:36<11:56,  4.17s/ex]\u001b[A\u001b[A\n",
      "\n",
      "\n",
      "#3:  13%|█▎        | 26/200 [01:37<09:46,  3.37s/ex]\u001b[A\u001b[A\u001b[A\n",
      "\n",
      "\n",
      "\n",
      "#0:  14%|█▎        | 27/200 [01:38<09:26,  3.27s/ex]\u001b[A\u001b[A\u001b[A\u001b[A\n",
      "#1:  14%|█▍        | 28/200 [01:39<10:09,  3.55s/ex]\u001b[A\n",
      "\n",
      "\n",
      "#3:  14%|█▎        | 27/200 [01:40<09:19,  3.23s/ex]\u001b[A\u001b[A\u001b[A\n",
      "\n",
      "#2:  14%|█▍        | 29/200 [01:40<11:43,  4.12s/ex]\u001b[A\u001b[A\n",
      "\n",
      "\n",
      "\n",
      "#4:  14%|█▍        | 29/200 [01:40<08:57,  3.14s/ex]\u001b[A\u001b[A\u001b[A\u001b[A\n",
      "#0:  14%|█▍        | 28/200 [01:43<10:19,  3.60s/ex]\u001b[A\n",
      "\n",
      "\n",
      "\n",
      "#4:  15%|█▌        | 30/200 [01:43<08:28,  2.99s/ex]\u001b[A\u001b[A\u001b[A\u001b[A\n",
      "\n",
      "\n",
      "#3:  14%|█▍        | 28/200 [01:44<09:59,  3.49s/ex]\u001b[A\u001b[A\u001b[A\n",
      "\n",
      "#2:  15%|█▌        | 30/200 [01:44<11:34,  4.09s/ex]\u001b[A\u001b[A\n",
      "\n",
      "\n",
      "\n",
      "#4:  16%|█▌        | 31/200 [01:46<08:54,  3.16s/ex]\u001b[A\u001b[A\u001b[A\u001b[A\n",
      "\n",
      "#2:  16%|█▌        | 31/200 [01:47<10:16,  3.65s/ex]\u001b[A\u001b[A\n",
      "#0:  14%|█▍        | 29/200 [01:47<11:02,  3.87s/ex]\u001b[A\n",
      "\n",
      "\n",
      "#3:  14%|█▍        | 29/200 [01:48<10:39,  3.74s/ex]\u001b[A\u001b[A\u001b[A\n",
      "\n",
      "\n",
      "\n",
      "#4:  16%|█▌        | 32/200 [01:50<09:16,  3.31s/ex]\u001b[A\u001b[A\u001b[A\u001b[A\n",
      "\n",
      "#2:  16%|█▌        | 32/200 [01:51<10:29,  3.75s/ex]\u001b[A\u001b[A\n",
      "#0:  15%|█▌        | 30/200 [01:52<11:30,  4.06s/ex]\u001b[A\n",
      "\n",
      "\n",
      "#3:  15%|█▌        | 30/200 [01:53<11:04,  3.91s/ex]\u001b[A\u001b[A\u001b[A\n",
      "\n",
      "#2:  16%|█▋        | 33/200 [01:54<10:11,  3.66s/ex]\u001b[A\u001b[A\n",
      "\n",
      "\n",
      "\n",
      "#4:  16%|█▋        | 33/200 [01:54<09:55,  3.57s/ex]\u001b[A\u001b[A\u001b[A\u001b[A\n",
      "#0:  16%|█▌        | 31/200 [01:57<12:21,  4.39s/ex]\u001b[A\n",
      "\n",
      "\n",
      "#3:  16%|█▌        | 31/200 [01:57<11:13,  3.99s/ex]\u001b[A\u001b[A\u001b[A\n",
      "\n",
      "#2:  17%|█▋        | 34/200 [01:58<10:10,  3.68s/ex]\u001b[A\u001b[A\n",
      "\n",
      "\n",
      "\n",
      "#4:  17%|█▋        | 34/200 [01:58<10:07,  3.66s/ex]\u001b[A\u001b[A\u001b[A\u001b[A\n",
      "\n",
      "\n",
      "#3:  16%|█▌        | 32/200 [01:59<09:58,  3.56s/ex]\u001b[A\u001b[A\u001b[A\n",
      "\n",
      "#2:  18%|█▊        | 35/200 [02:01<09:18,  3.38s/ex]\u001b[A\u001b[A\n",
      "\n",
      "\n",
      "\n",
      "#4:  18%|█▊        | 35/200 [02:01<09:17,  3.38s/ex]\u001b[A\u001b[A\u001b[A\u001b[A\n",
      "#0:  16%|█▌        | 32/200 [02:02<12:53,  4.60s/ex]\u001b[A\n",
      "\n",
      "\n",
      "#3:  16%|█▋        | 33/200 [02:02<09:06,  3.27s/ex]\u001b[A\u001b[A\u001b[A"
     ]
    },
    {
     "ename": "KeyboardInterrupt",
     "evalue": "",
     "output_type": "error",
     "traceback": [
      "\u001b[0;31m---------------------------------------------------------------------------\u001b[0m",
      "\u001b[0;31mKeyboardInterrupt\u001b[0m                         Traceback (most recent call last)",
      "\u001b[0;32m<ipython-input-29-58d7c0ebcc90>\u001b[0m in \u001b[0;36m<module>\u001b[0;34m\u001b[0m\n\u001b[1;32m      2\u001b[0m     \u001b[0mdia\u001b[0m \u001b[0;34m=\u001b[0m \u001b[0mgetattr\u001b[0m\u001b[0;34m(\u001b[0m\u001b[0mvalue\u001b[0m\u001b[0;34m,\u001b[0m \u001b[0mdialect\u001b[0m\u001b[0;34m)\u001b[0m\u001b[0;34m(\u001b[0m\u001b[0;34m)\u001b[0m\u001b[0;34m\u001b[0m\u001b[0;34m\u001b[0m\u001b[0m\n\u001b[1;32m      3\u001b[0m     \u001b[0;31m# try:\u001b[0m\u001b[0;34m\u001b[0m\u001b[0;34m\u001b[0m\u001b[0;34m\u001b[0m\u001b[0m\n\u001b[0;32m----> 4\u001b[0;31m     \u001b[0mdia_ds\u001b[0m \u001b[0;34m=\u001b[0m \u001b[0mds\u001b[0m\u001b[0;34m.\u001b[0m\u001b[0mmap\u001b[0m\u001b[0;34m(\u001b[0m\u001b[0mmap_record\u001b[0m\u001b[0;34m,\u001b[0m \u001b[0mnum_proc\u001b[0m\u001b[0;34m=\u001b[0m\u001b[0;36m5\u001b[0m\u001b[0;34m)\u001b[0m\u001b[0;34m\u001b[0m\u001b[0;34m\u001b[0m\u001b[0m\n\u001b[0m\u001b[1;32m      5\u001b[0m     \u001b[0;31m# except:\u001b[0m\u001b[0;34m\u001b[0m\u001b[0;34m\u001b[0m\u001b[0;34m\u001b[0m\u001b[0m\n\u001b[1;32m      6\u001b[0m     \u001b[0;31m#     continue\u001b[0m\u001b[0;34m\u001b[0m\u001b[0;34m\u001b[0m\u001b[0;34m\u001b[0m\u001b[0m\n",
      "\u001b[0;32m~/.conda/envs/py3.6/lib/python3.6/site-packages/datasets/dataset_dict.py\u001b[0m in \u001b[0;36mmap\u001b[0;34m(self, function, with_indices, with_rank, input_columns, batched, batch_size, drop_last_batch, remove_columns, keep_in_memory, load_from_cache_file, cache_file_names, writer_batch_size, features, disable_nullable, fn_kwargs, num_proc, desc)\u001b[0m\n\u001b[1;32m    788\u001b[0m                     \u001b[0mdesc\u001b[0m\u001b[0;34m=\u001b[0m\u001b[0mdesc\u001b[0m\u001b[0;34m,\u001b[0m\u001b[0;34m\u001b[0m\u001b[0;34m\u001b[0m\u001b[0m\n\u001b[1;32m    789\u001b[0m                 )\n\u001b[0;32m--> 790\u001b[0;31m                 \u001b[0;32mfor\u001b[0m \u001b[0mk\u001b[0m\u001b[0;34m,\u001b[0m \u001b[0mdataset\u001b[0m \u001b[0;32min\u001b[0m \u001b[0mself\u001b[0m\u001b[0;34m.\u001b[0m\u001b[0mitems\u001b[0m\u001b[0;34m(\u001b[0m\u001b[0;34m)\u001b[0m\u001b[0;34m\u001b[0m\u001b[0;34m\u001b[0m\u001b[0m\n\u001b[0m\u001b[1;32m    791\u001b[0m             }\n\u001b[1;32m    792\u001b[0m         )\n",
      "\u001b[0;32m~/.conda/envs/py3.6/lib/python3.6/site-packages/datasets/dataset_dict.py\u001b[0m in \u001b[0;36m<dictcomp>\u001b[0;34m(.0)\u001b[0m\n\u001b[1;32m    788\u001b[0m                     \u001b[0mdesc\u001b[0m\u001b[0;34m=\u001b[0m\u001b[0mdesc\u001b[0m\u001b[0;34m,\u001b[0m\u001b[0;34m\u001b[0m\u001b[0;34m\u001b[0m\u001b[0m\n\u001b[1;32m    789\u001b[0m                 )\n\u001b[0;32m--> 790\u001b[0;31m                 \u001b[0;32mfor\u001b[0m \u001b[0mk\u001b[0m\u001b[0;34m,\u001b[0m \u001b[0mdataset\u001b[0m \u001b[0;32min\u001b[0m \u001b[0mself\u001b[0m\u001b[0;34m.\u001b[0m\u001b[0mitems\u001b[0m\u001b[0;34m(\u001b[0m\u001b[0;34m)\u001b[0m\u001b[0;34m\u001b[0m\u001b[0;34m\u001b[0m\u001b[0m\n\u001b[0m\u001b[1;32m    791\u001b[0m             }\n\u001b[1;32m    792\u001b[0m         )\n",
      "\u001b[0;32m~/.conda/envs/py3.6/lib/python3.6/site-packages/datasets/arrow_dataset.py\u001b[0m in \u001b[0;36mmap\u001b[0;34m(self, function, with_indices, with_rank, input_columns, batched, batch_size, drop_last_batch, remove_columns, keep_in_memory, load_from_cache_file, cache_file_name, writer_batch_size, features, disable_nullable, fn_kwargs, num_proc, suffix_template, new_fingerprint, desc)\u001b[0m\n\u001b[1;32m   2498\u001b[0m \u001b[0;34m\u001b[0m\u001b[0m\n\u001b[1;32m   2499\u001b[0m                     \u001b[0;32mfor\u001b[0m \u001b[0mindex\u001b[0m\u001b[0;34m,\u001b[0m \u001b[0masync_result\u001b[0m \u001b[0;32min\u001b[0m \u001b[0mresults\u001b[0m\u001b[0;34m.\u001b[0m\u001b[0mitems\u001b[0m\u001b[0;34m(\u001b[0m\u001b[0;34m)\u001b[0m\u001b[0;34m:\u001b[0m\u001b[0;34m\u001b[0m\u001b[0;34m\u001b[0m\u001b[0m\n\u001b[0;32m-> 2500\u001b[0;31m                         \u001b[0mtransformed_shards\u001b[0m\u001b[0;34m[\u001b[0m\u001b[0mindex\u001b[0m\u001b[0;34m]\u001b[0m \u001b[0;34m=\u001b[0m \u001b[0masync_result\u001b[0m\u001b[0;34m.\u001b[0m\u001b[0mget\u001b[0m\u001b[0;34m(\u001b[0m\u001b[0;34m)\u001b[0m\u001b[0;34m\u001b[0m\u001b[0;34m\u001b[0m\u001b[0m\n\u001b[0m\u001b[1;32m   2501\u001b[0m \u001b[0;34m\u001b[0m\u001b[0m\n\u001b[1;32m   2502\u001b[0m             assert (\n",
      "\u001b[0;32m~/.conda/envs/py3.6/lib/python3.6/site-packages/multiprocess/pool.py\u001b[0m in \u001b[0;36mget\u001b[0;34m(self, timeout)\u001b[0m\n\u001b[1;32m    636\u001b[0m \u001b[0;34m\u001b[0m\u001b[0m\n\u001b[1;32m    637\u001b[0m     \u001b[0;32mdef\u001b[0m \u001b[0mget\u001b[0m\u001b[0;34m(\u001b[0m\u001b[0mself\u001b[0m\u001b[0;34m,\u001b[0m \u001b[0mtimeout\u001b[0m\u001b[0;34m=\u001b[0m\u001b[0;32mNone\u001b[0m\u001b[0;34m)\u001b[0m\u001b[0;34m:\u001b[0m\u001b[0;34m\u001b[0m\u001b[0;34m\u001b[0m\u001b[0m\n\u001b[0;32m--> 638\u001b[0;31m         \u001b[0mself\u001b[0m\u001b[0;34m.\u001b[0m\u001b[0mwait\u001b[0m\u001b[0;34m(\u001b[0m\u001b[0mtimeout\u001b[0m\u001b[0;34m)\u001b[0m\u001b[0;34m\u001b[0m\u001b[0;34m\u001b[0m\u001b[0m\n\u001b[0m\u001b[1;32m    639\u001b[0m         \u001b[0;32mif\u001b[0m \u001b[0;32mnot\u001b[0m \u001b[0mself\u001b[0m\u001b[0;34m.\u001b[0m\u001b[0mready\u001b[0m\u001b[0;34m(\u001b[0m\u001b[0;34m)\u001b[0m\u001b[0;34m:\u001b[0m\u001b[0;34m\u001b[0m\u001b[0;34m\u001b[0m\u001b[0m\n\u001b[1;32m    640\u001b[0m             \u001b[0;32mraise\u001b[0m \u001b[0mTimeoutError\u001b[0m\u001b[0;34m\u001b[0m\u001b[0;34m\u001b[0m\u001b[0m\n",
      "\u001b[0;32m~/.conda/envs/py3.6/lib/python3.6/site-packages/multiprocess/pool.py\u001b[0m in \u001b[0;36mwait\u001b[0;34m(self, timeout)\u001b[0m\n\u001b[1;32m    633\u001b[0m \u001b[0;34m\u001b[0m\u001b[0m\n\u001b[1;32m    634\u001b[0m     \u001b[0;32mdef\u001b[0m \u001b[0mwait\u001b[0m\u001b[0;34m(\u001b[0m\u001b[0mself\u001b[0m\u001b[0;34m,\u001b[0m \u001b[0mtimeout\u001b[0m\u001b[0;34m=\u001b[0m\u001b[0;32mNone\u001b[0m\u001b[0;34m)\u001b[0m\u001b[0;34m:\u001b[0m\u001b[0;34m\u001b[0m\u001b[0;34m\u001b[0m\u001b[0m\n\u001b[0;32m--> 635\u001b[0;31m         \u001b[0mself\u001b[0m\u001b[0;34m.\u001b[0m\u001b[0m_event\u001b[0m\u001b[0;34m.\u001b[0m\u001b[0mwait\u001b[0m\u001b[0;34m(\u001b[0m\u001b[0mtimeout\u001b[0m\u001b[0;34m)\u001b[0m\u001b[0;34m\u001b[0m\u001b[0;34m\u001b[0m\u001b[0m\n\u001b[0m\u001b[1;32m    636\u001b[0m \u001b[0;34m\u001b[0m\u001b[0m\n\u001b[1;32m    637\u001b[0m     \u001b[0;32mdef\u001b[0m \u001b[0mget\u001b[0m\u001b[0;34m(\u001b[0m\u001b[0mself\u001b[0m\u001b[0;34m,\u001b[0m \u001b[0mtimeout\u001b[0m\u001b[0;34m=\u001b[0m\u001b[0;32mNone\u001b[0m\u001b[0;34m)\u001b[0m\u001b[0;34m:\u001b[0m\u001b[0;34m\u001b[0m\u001b[0;34m\u001b[0m\u001b[0m\n",
      "\u001b[0;32m~/.conda/envs/py3.6/lib/python3.6/threading.py\u001b[0m in \u001b[0;36mwait\u001b[0;34m(self, timeout)\u001b[0m\n\u001b[1;32m    549\u001b[0m             \u001b[0msignaled\u001b[0m \u001b[0;34m=\u001b[0m \u001b[0mself\u001b[0m\u001b[0;34m.\u001b[0m\u001b[0m_flag\u001b[0m\u001b[0;34m\u001b[0m\u001b[0;34m\u001b[0m\u001b[0m\n\u001b[1;32m    550\u001b[0m             \u001b[0;32mif\u001b[0m \u001b[0;32mnot\u001b[0m \u001b[0msignaled\u001b[0m\u001b[0;34m:\u001b[0m\u001b[0;34m\u001b[0m\u001b[0;34m\u001b[0m\u001b[0m\n\u001b[0;32m--> 551\u001b[0;31m                 \u001b[0msignaled\u001b[0m \u001b[0;34m=\u001b[0m \u001b[0mself\u001b[0m\u001b[0;34m.\u001b[0m\u001b[0m_cond\u001b[0m\u001b[0;34m.\u001b[0m\u001b[0mwait\u001b[0m\u001b[0;34m(\u001b[0m\u001b[0mtimeout\u001b[0m\u001b[0;34m)\u001b[0m\u001b[0;34m\u001b[0m\u001b[0;34m\u001b[0m\u001b[0m\n\u001b[0m\u001b[1;32m    552\u001b[0m             \u001b[0;32mreturn\u001b[0m \u001b[0msignaled\u001b[0m\u001b[0;34m\u001b[0m\u001b[0;34m\u001b[0m\u001b[0m\n\u001b[1;32m    553\u001b[0m \u001b[0;34m\u001b[0m\u001b[0m\n",
      "\u001b[0;32m~/.conda/envs/py3.6/lib/python3.6/threading.py\u001b[0m in \u001b[0;36mwait\u001b[0;34m(self, timeout)\u001b[0m\n\u001b[1;32m    293\u001b[0m         \u001b[0;32mtry\u001b[0m\u001b[0;34m:\u001b[0m    \u001b[0;31m# restore state no matter what (e.g., KeyboardInterrupt)\u001b[0m\u001b[0;34m\u001b[0m\u001b[0;34m\u001b[0m\u001b[0m\n\u001b[1;32m    294\u001b[0m             \u001b[0;32mif\u001b[0m \u001b[0mtimeout\u001b[0m \u001b[0;32mis\u001b[0m \u001b[0;32mNone\u001b[0m\u001b[0;34m:\u001b[0m\u001b[0;34m\u001b[0m\u001b[0;34m\u001b[0m\u001b[0m\n\u001b[0;32m--> 295\u001b[0;31m                 \u001b[0mwaiter\u001b[0m\u001b[0;34m.\u001b[0m\u001b[0macquire\u001b[0m\u001b[0;34m(\u001b[0m\u001b[0;34m)\u001b[0m\u001b[0;34m\u001b[0m\u001b[0;34m\u001b[0m\u001b[0m\n\u001b[0m\u001b[1;32m    296\u001b[0m                 \u001b[0mgotit\u001b[0m \u001b[0;34m=\u001b[0m \u001b[0;32mTrue\u001b[0m\u001b[0;34m\u001b[0m\u001b[0;34m\u001b[0m\u001b[0m\n\u001b[1;32m    297\u001b[0m             \u001b[0;32melse\u001b[0m\u001b[0;34m:\u001b[0m\u001b[0;34m\u001b[0m\u001b[0;34m\u001b[0m\u001b[0m\n",
      "\u001b[0;31mKeyboardInterrupt\u001b[0m: "
     ]
    }
   ],
   "source": [
    "for i, dialect in enumerate(dialects):\n",
    "    dia = getattr(value, dialect)()\n",
    "    # try:\n",
    "    dia_ds = ds.map(map_record, num_proc=5)\n",
    "    # except:\n",
    "    #     continue\n",
    "    for split in dia_ds:\n",
    "        try:\n",
    "            os.mkdir(f\"dia_record/{dia_codes[i]}\")\n",
    "        except:\n",
    "            print(\"dir_exists\")\n",
    "        dia_ds[split].to_csv(f\"dia_record/{dia_codes[i]}/{split}.csv\")\n",
    "        "
   ]
  },
  {
   "cell_type": "code",
   "execution_count": 8,
   "id": "afbb8764-422f-471e-a014-2e9cae3c5773",
   "metadata": {},
   "outputs": [
    {
     "name": "stderr",
     "output_type": "stream",
     "text": [
      "Loading cached processed dataset at /scratch/afz225/.cache/super_glue/copa/1.0.2/d040c658e2ddef6934fdd97deb45c777b6ff50c524781ea434e7219b56a428a7/cache-df98d64102e006a9.arrow\n",
      "Loading cached processed dataset at /scratch/afz225/.cache/super_glue/copa/1.0.2/d040c658e2ddef6934fdd97deb45c777b6ff50c524781ea434e7219b56a428a7/cache-61434f2e7adb3490.arrow\n",
      "Loading cached processed dataset at /scratch/afz225/.cache/super_glue/copa/1.0.2/d040c658e2ddef6934fdd97deb45c777b6ff50c524781ea434e7219b56a428a7/cache-2f74b03095146601.arrow\n"
     ]
    },
    {
     "name": "stdout",
     "output_type": "stream",
     "text": [
      "dir_exists\n"
     ]
    },
    {
     "name": "stderr",
     "output_type": "stream",
     "text": [
      "Creating CSV from Arrow format: 100%|██████████| 1/1 [00:00<00:00, 55.04ba/s]\n"
     ]
    },
    {
     "name": "stdout",
     "output_type": "stream",
     "text": [
      "dir_exists\n"
     ]
    },
    {
     "name": "stderr",
     "output_type": "stream",
     "text": [
      "Creating CSV from Arrow format: 100%|██████████| 1/1 [00:00<00:00, 248.32ba/s]\n"
     ]
    },
    {
     "name": "stdout",
     "output_type": "stream",
     "text": [
      "dir_exists\n"
     ]
    },
    {
     "name": "stderr",
     "output_type": "stream",
     "text": [
      "Creating CSV from Arrow format: 100%|██████████| 1/1 [00:00<00:00, 153.37ba/s]\n",
      "Loading cached processed dataset at /scratch/afz225/.cache/super_glue/copa/1.0.2/d040c658e2ddef6934fdd97deb45c777b6ff50c524781ea434e7219b56a428a7/cache-12302d3d310504ea.arrow\n",
      "Loading cached processed dataset at /scratch/afz225/.cache/super_glue/copa/1.0.2/d040c658e2ddef6934fdd97deb45c777b6ff50c524781ea434e7219b56a428a7/cache-15bf3370bc6d1172.arrow\n",
      "Loading cached processed dataset at /scratch/afz225/.cache/super_glue/copa/1.0.2/d040c658e2ddef6934fdd97deb45c777b6ff50c524781ea434e7219b56a428a7/cache-38863242753c970c.arrow\n"
     ]
    },
    {
     "name": "stdout",
     "output_type": "stream",
     "text": [
      "dir_exists\n"
     ]
    },
    {
     "name": "stderr",
     "output_type": "stream",
     "text": [
      "Creating CSV from Arrow format: 100%|██████████| 1/1 [00:00<00:00, 163.82ba/s]\n"
     ]
    },
    {
     "name": "stdout",
     "output_type": "stream",
     "text": [
      "dir_exists\n"
     ]
    },
    {
     "name": "stderr",
     "output_type": "stream",
     "text": [
      "Creating CSV from Arrow format: 100%|██████████| 1/1 [00:00<00:00, 269.31ba/s]\n"
     ]
    },
    {
     "name": "stdout",
     "output_type": "stream",
     "text": [
      "dir_exists\n"
     ]
    },
    {
     "name": "stderr",
     "output_type": "stream",
     "text": [
      "Creating CSV from Arrow format: 100%|██████████| 1/1 [00:00<00:00, 154.13ba/s]\n",
      "Loading cached processed dataset at /scratch/afz225/.cache/super_glue/copa/1.0.2/d040c658e2ddef6934fdd97deb45c777b6ff50c524781ea434e7219b56a428a7/cache-ee28bccd713760fd.arrow\n",
      "Loading cached processed dataset at /scratch/afz225/.cache/super_glue/copa/1.0.2/d040c658e2ddef6934fdd97deb45c777b6ff50c524781ea434e7219b56a428a7/cache-a5b1ab2d938ec1c1.arrow\n",
      "Loading cached processed dataset at /scratch/afz225/.cache/super_glue/copa/1.0.2/d040c658e2ddef6934fdd97deb45c777b6ff50c524781ea434e7219b56a428a7/cache-3bc9526bef5067c2.arrow\n"
     ]
    },
    {
     "name": "stdout",
     "output_type": "stream",
     "text": [
      "dir_exists\n"
     ]
    },
    {
     "name": "stderr",
     "output_type": "stream",
     "text": [
      "Creating CSV from Arrow format: 100%|██████████| 1/1 [00:00<00:00, 159.56ba/s]\n"
     ]
    },
    {
     "name": "stdout",
     "output_type": "stream",
     "text": [
      "dir_exists\n"
     ]
    },
    {
     "name": "stderr",
     "output_type": "stream",
     "text": [
      "Creating CSV from Arrow format: 100%|██████████| 1/1 [00:00<00:00, 285.56ba/s]\n"
     ]
    },
    {
     "name": "stdout",
     "output_type": "stream",
     "text": [
      "dir_exists\n"
     ]
    },
    {
     "name": "stderr",
     "output_type": "stream",
     "text": [
      "Creating CSV from Arrow format: 100%|██████████| 1/1 [00:00<00:00, 151.05ba/s]\n",
      "Loading cached processed dataset at /scratch/afz225/.cache/super_glue/copa/1.0.2/d040c658e2ddef6934fdd97deb45c777b6ff50c524781ea434e7219b56a428a7/cache-3f1d237b21d17e33.arrow\n",
      "Loading cached processed dataset at /scratch/afz225/.cache/super_glue/copa/1.0.2/d040c658e2ddef6934fdd97deb45c777b6ff50c524781ea434e7219b56a428a7/cache-9398ecb4de6d82fe.arrow\n",
      "Loading cached processed dataset at /scratch/afz225/.cache/super_glue/copa/1.0.2/d040c658e2ddef6934fdd97deb45c777b6ff50c524781ea434e7219b56a428a7/cache-6244cd4639c53310.arrow\n"
     ]
    },
    {
     "name": "stdout",
     "output_type": "stream",
     "text": [
      "dir_exists\n"
     ]
    },
    {
     "name": "stderr",
     "output_type": "stream",
     "text": [
      "Creating CSV from Arrow format: 100%|██████████| 1/1 [00:00<00:00, 160.40ba/s]\n"
     ]
    },
    {
     "name": "stdout",
     "output_type": "stream",
     "text": [
      "dir_exists\n"
     ]
    },
    {
     "name": "stderr",
     "output_type": "stream",
     "text": [
      "Creating CSV from Arrow format: 100%|██████████| 1/1 [00:00<00:00, 267.94ba/s]\n"
     ]
    },
    {
     "name": "stdout",
     "output_type": "stream",
     "text": [
      "dir_exists\n"
     ]
    },
    {
     "name": "stderr",
     "output_type": "stream",
     "text": [
      "Creating CSV from Arrow format: 100%|██████████| 1/1 [00:00<00:00, 151.28ba/s]\n",
      "Loading cached processed dataset at /scratch/afz225/.cache/super_glue/copa/1.0.2/d040c658e2ddef6934fdd97deb45c777b6ff50c524781ea434e7219b56a428a7/cache-8a8929a30970aa83.arrow\n",
      "Loading cached processed dataset at /scratch/afz225/.cache/super_glue/copa/1.0.2/d040c658e2ddef6934fdd97deb45c777b6ff50c524781ea434e7219b56a428a7/cache-b285e08fe3d525c2.arrow\n",
      "Loading cached processed dataset at /scratch/afz225/.cache/super_glue/copa/1.0.2/d040c658e2ddef6934fdd97deb45c777b6ff50c524781ea434e7219b56a428a7/cache-6be3f3549b8f23e0.arrow\n"
     ]
    },
    {
     "name": "stdout",
     "output_type": "stream",
     "text": [
      "dir_exists\n"
     ]
    },
    {
     "name": "stderr",
     "output_type": "stream",
     "text": [
      "Creating CSV from Arrow format: 100%|██████████| 1/1 [00:00<00:00, 154.48ba/s]\n"
     ]
    },
    {
     "name": "stdout",
     "output_type": "stream",
     "text": [
      "dir_exists\n"
     ]
    },
    {
     "name": "stderr",
     "output_type": "stream",
     "text": [
      "Creating CSV from Arrow format: 100%|██████████| 1/1 [00:00<00:00, 271.09ba/s]\n"
     ]
    },
    {
     "name": "stdout",
     "output_type": "stream",
     "text": [
      "dir_exists\n"
     ]
    },
    {
     "name": "stderr",
     "output_type": "stream",
     "text": [
      "Creating CSV from Arrow format: 100%|██████████| 1/1 [00:00<00:00, 154.43ba/s]\n",
      "Loading cached processed dataset at /scratch/afz225/.cache/super_glue/copa/1.0.2/d040c658e2ddef6934fdd97deb45c777b6ff50c524781ea434e7219b56a428a7/cache-e09dcd6863188bbf.arrow\n",
      "Loading cached processed dataset at /scratch/afz225/.cache/super_glue/copa/1.0.2/d040c658e2ddef6934fdd97deb45c777b6ff50c524781ea434e7219b56a428a7/cache-4c54667905383610.arrow\n",
      "Loading cached processed dataset at /scratch/afz225/.cache/super_glue/copa/1.0.2/d040c658e2ddef6934fdd97deb45c777b6ff50c524781ea434e7219b56a428a7/cache-5b629610969666dd.arrow\n"
     ]
    },
    {
     "name": "stdout",
     "output_type": "stream",
     "text": [
      "dir_exists\n"
     ]
    },
    {
     "name": "stderr",
     "output_type": "stream",
     "text": [
      "Creating CSV from Arrow format: 100%|██████████| 1/1 [00:00<00:00, 156.99ba/s]\n"
     ]
    },
    {
     "name": "stdout",
     "output_type": "stream",
     "text": [
      "dir_exists\n"
     ]
    },
    {
     "name": "stderr",
     "output_type": "stream",
     "text": [
      "Creating CSV from Arrow format: 100%|██████████| 1/1 [00:00<00:00, 273.17ba/s]\n"
     ]
    },
    {
     "name": "stdout",
     "output_type": "stream",
     "text": [
      "dir_exists\n"
     ]
    },
    {
     "name": "stderr",
     "output_type": "stream",
     "text": [
      "Creating CSV from Arrow format: 100%|██████████| 1/1 [00:00<00:00, 143.69ba/s]\n",
      "Loading cached processed dataset at /scratch/afz225/.cache/super_glue/copa/1.0.2/d040c658e2ddef6934fdd97deb45c777b6ff50c524781ea434e7219b56a428a7/cache-3c54349ead875334.arrow\n",
      "Loading cached processed dataset at /scratch/afz225/.cache/super_glue/copa/1.0.2/d040c658e2ddef6934fdd97deb45c777b6ff50c524781ea434e7219b56a428a7/cache-ca9301c32ade82c2.arrow\n",
      "Loading cached processed dataset at /scratch/afz225/.cache/super_glue/copa/1.0.2/d040c658e2ddef6934fdd97deb45c777b6ff50c524781ea434e7219b56a428a7/cache-932da00cc1aa55b1.arrow\n"
     ]
    },
    {
     "name": "stdout",
     "output_type": "stream",
     "text": [
      "dir_exists\n"
     ]
    },
    {
     "name": "stderr",
     "output_type": "stream",
     "text": [
      "Creating CSV from Arrow format: 100%|██████████| 1/1 [00:00<00:00, 161.74ba/s]\n"
     ]
    },
    {
     "name": "stdout",
     "output_type": "stream",
     "text": [
      "dir_exists\n"
     ]
    },
    {
     "name": "stderr",
     "output_type": "stream",
     "text": [
      "Creating CSV from Arrow format: 100%|██████████| 1/1 [00:00<00:00, 268.02ba/s]\n"
     ]
    },
    {
     "name": "stdout",
     "output_type": "stream",
     "text": [
      "dir_exists\n"
     ]
    },
    {
     "name": "stderr",
     "output_type": "stream",
     "text": [
      "Creating CSV from Arrow format: 100%|██████████| 1/1 [00:00<00:00, 142.52ba/s]\n",
      "Loading cached processed dataset at /scratch/afz225/.cache/super_glue/copa/1.0.2/d040c658e2ddef6934fdd97deb45c777b6ff50c524781ea434e7219b56a428a7/cache-c76a7ceeb291c72b.arrow\n",
      "Loading cached processed dataset at /scratch/afz225/.cache/super_glue/copa/1.0.2/d040c658e2ddef6934fdd97deb45c777b6ff50c524781ea434e7219b56a428a7/cache-0b84ddcdd4ad7989.arrow\n",
      "Loading cached processed dataset at /scratch/afz225/.cache/super_glue/copa/1.0.2/d040c658e2ddef6934fdd97deb45c777b6ff50c524781ea434e7219b56a428a7/cache-e7d5f2f22646bb29.arrow\n"
     ]
    },
    {
     "name": "stdout",
     "output_type": "stream",
     "text": [
      "dir_exists\n"
     ]
    },
    {
     "name": "stderr",
     "output_type": "stream",
     "text": [
      "Creating CSV from Arrow format: 100%|██████████| 1/1 [00:00<00:00, 154.98ba/s]\n"
     ]
    },
    {
     "name": "stdout",
     "output_type": "stream",
     "text": [
      "dir_exists\n"
     ]
    },
    {
     "name": "stderr",
     "output_type": "stream",
     "text": [
      "Creating CSV from Arrow format: 100%|██████████| 1/1 [00:00<00:00, 272.52ba/s]\n"
     ]
    },
    {
     "name": "stdout",
     "output_type": "stream",
     "text": [
      "dir_exists\n"
     ]
    },
    {
     "name": "stderr",
     "output_type": "stream",
     "text": [
      "Creating CSV from Arrow format: 100%|██████████| 1/1 [00:00<00:00, 160.79ba/s]\n",
      "Loading cached processed dataset at /scratch/afz225/.cache/super_glue/copa/1.0.2/d040c658e2ddef6934fdd97deb45c777b6ff50c524781ea434e7219b56a428a7/cache-df48882b11cbadbf.arrow\n",
      "Loading cached processed dataset at /scratch/afz225/.cache/super_glue/copa/1.0.2/d040c658e2ddef6934fdd97deb45c777b6ff50c524781ea434e7219b56a428a7/cache-fd2d51357eb53b97.arrow\n",
      "Loading cached processed dataset at /scratch/afz225/.cache/super_glue/copa/1.0.2/d040c658e2ddef6934fdd97deb45c777b6ff50c524781ea434e7219b56a428a7/cache-7322db429f68b188.arrow\n"
     ]
    },
    {
     "name": "stdout",
     "output_type": "stream",
     "text": [
      "dir_exists\n"
     ]
    },
    {
     "name": "stderr",
     "output_type": "stream",
     "text": [
      "Creating CSV from Arrow format: 100%|██████████| 1/1 [00:00<00:00, 159.52ba/s]\n"
     ]
    },
    {
     "name": "stdout",
     "output_type": "stream",
     "text": [
      "dir_exists\n"
     ]
    },
    {
     "name": "stderr",
     "output_type": "stream",
     "text": [
      "Creating CSV from Arrow format: 100%|██████████| 1/1 [00:00<00:00, 273.71ba/s]\n"
     ]
    },
    {
     "name": "stdout",
     "output_type": "stream",
     "text": [
      "dir_exists\n"
     ]
    },
    {
     "name": "stderr",
     "output_type": "stream",
     "text": [
      "Creating CSV from Arrow format: 100%|██████████| 1/1 [00:00<00:00, 155.96ba/s]\n",
      "Loading cached processed dataset at /scratch/afz225/.cache/super_glue/copa/1.0.2/d040c658e2ddef6934fdd97deb45c777b6ff50c524781ea434e7219b56a428a7/cache-3d1514eb18ba9b35.arrow\n"
     ]
    },
    {
     "ename": "KeyboardInterrupt",
     "evalue": "",
     "output_type": "error",
     "traceback": [
      "\u001b[0;31m---------------------------------------------------------------------------\u001b[0m",
      "\u001b[0;31mKeyboardInterrupt\u001b[0m                         Traceback (most recent call last)",
      "\u001b[0;32m<ipython-input-8-cbdf2bf864bc>\u001b[0m in \u001b[0;36m<module>\u001b[0;34m\u001b[0m\n\u001b[1;32m      2\u001b[0m     \u001b[0mdia\u001b[0m \u001b[0;34m=\u001b[0m \u001b[0mgetattr\u001b[0m\u001b[0;34m(\u001b[0m\u001b[0mvalue\u001b[0m\u001b[0;34m,\u001b[0m \u001b[0mdialect\u001b[0m\u001b[0;34m)\u001b[0m\u001b[0;34m(\u001b[0m\u001b[0;34m)\u001b[0m\u001b[0;34m\u001b[0m\u001b[0;34m\u001b[0m\u001b[0m\n\u001b[1;32m      3\u001b[0m     \u001b[0;31m# try:\u001b[0m\u001b[0;34m\u001b[0m\u001b[0;34m\u001b[0m\u001b[0;34m\u001b[0m\u001b[0m\n\u001b[0;32m----> 4\u001b[0;31m     \u001b[0mdia_ds\u001b[0m \u001b[0;34m=\u001b[0m \u001b[0mds\u001b[0m\u001b[0;34m.\u001b[0m\u001b[0mmap\u001b[0m\u001b[0;34m(\u001b[0m\u001b[0mmap_copa\u001b[0m\u001b[0;34m,\u001b[0m \u001b[0mfn_kwargs\u001b[0m\u001b[0;34m=\u001b[0m\u001b[0;34m{\u001b[0m\u001b[0;34m\"dia\"\u001b[0m\u001b[0;34m:\u001b[0m \u001b[0mdia\u001b[0m\u001b[0;34m}\u001b[0m\u001b[0;34m)\u001b[0m\u001b[0;34m\u001b[0m\u001b[0;34m\u001b[0m\u001b[0m\n\u001b[0m\u001b[1;32m      5\u001b[0m     \u001b[0;31m# except:\u001b[0m\u001b[0;34m\u001b[0m\u001b[0;34m\u001b[0m\u001b[0;34m\u001b[0m\u001b[0m\n\u001b[1;32m      6\u001b[0m     \u001b[0;31m#     continue\u001b[0m\u001b[0;34m\u001b[0m\u001b[0;34m\u001b[0m\u001b[0;34m\u001b[0m\u001b[0m\n",
      "\u001b[0;32m~/.conda/envs/py3.6/lib/python3.6/site-packages/datasets/dataset_dict.py\u001b[0m in \u001b[0;36mmap\u001b[0;34m(self, function, with_indices, with_rank, input_columns, batched, batch_size, drop_last_batch, remove_columns, keep_in_memory, load_from_cache_file, cache_file_names, writer_batch_size, features, disable_nullable, fn_kwargs, num_proc, desc)\u001b[0m\n\u001b[1;32m    788\u001b[0m                     \u001b[0mdesc\u001b[0m\u001b[0;34m=\u001b[0m\u001b[0mdesc\u001b[0m\u001b[0;34m,\u001b[0m\u001b[0;34m\u001b[0m\u001b[0;34m\u001b[0m\u001b[0m\n\u001b[1;32m    789\u001b[0m                 )\n\u001b[0;32m--> 790\u001b[0;31m                 \u001b[0;32mfor\u001b[0m \u001b[0mk\u001b[0m\u001b[0;34m,\u001b[0m \u001b[0mdataset\u001b[0m \u001b[0;32min\u001b[0m \u001b[0mself\u001b[0m\u001b[0;34m.\u001b[0m\u001b[0mitems\u001b[0m\u001b[0;34m(\u001b[0m\u001b[0;34m)\u001b[0m\u001b[0;34m\u001b[0m\u001b[0;34m\u001b[0m\u001b[0m\n\u001b[0m\u001b[1;32m    791\u001b[0m             }\n\u001b[1;32m    792\u001b[0m         )\n",
      "\u001b[0;32m~/.conda/envs/py3.6/lib/python3.6/site-packages/datasets/dataset_dict.py\u001b[0m in \u001b[0;36m<dictcomp>\u001b[0;34m(.0)\u001b[0m\n\u001b[1;32m    788\u001b[0m                     \u001b[0mdesc\u001b[0m\u001b[0;34m=\u001b[0m\u001b[0mdesc\u001b[0m\u001b[0;34m,\u001b[0m\u001b[0;34m\u001b[0m\u001b[0;34m\u001b[0m\u001b[0m\n\u001b[1;32m    789\u001b[0m                 )\n\u001b[0;32m--> 790\u001b[0;31m                 \u001b[0;32mfor\u001b[0m \u001b[0mk\u001b[0m\u001b[0;34m,\u001b[0m \u001b[0mdataset\u001b[0m \u001b[0;32min\u001b[0m \u001b[0mself\u001b[0m\u001b[0;34m.\u001b[0m\u001b[0mitems\u001b[0m\u001b[0;34m(\u001b[0m\u001b[0;34m)\u001b[0m\u001b[0;34m\u001b[0m\u001b[0;34m\u001b[0m\u001b[0m\n\u001b[0m\u001b[1;32m    791\u001b[0m             }\n\u001b[1;32m    792\u001b[0m         )\n",
      "\u001b[0;32m~/.conda/envs/py3.6/lib/python3.6/site-packages/datasets/arrow_dataset.py\u001b[0m in \u001b[0;36mmap\u001b[0;34m(self, function, with_indices, with_rank, input_columns, batched, batch_size, drop_last_batch, remove_columns, keep_in_memory, load_from_cache_file, cache_file_name, writer_batch_size, features, disable_nullable, fn_kwargs, num_proc, suffix_template, new_fingerprint, desc)\u001b[0m\n\u001b[1;32m   2403\u001b[0m                 \u001b[0mnew_fingerprint\u001b[0m\u001b[0;34m=\u001b[0m\u001b[0mnew_fingerprint\u001b[0m\u001b[0;34m,\u001b[0m\u001b[0;34m\u001b[0m\u001b[0;34m\u001b[0m\u001b[0m\n\u001b[1;32m   2404\u001b[0m                 \u001b[0mdisable_tqdm\u001b[0m\u001b[0;34m=\u001b[0m\u001b[0mdisable_tqdm\u001b[0m\u001b[0;34m,\u001b[0m\u001b[0;34m\u001b[0m\u001b[0;34m\u001b[0m\u001b[0m\n\u001b[0;32m-> 2405\u001b[0;31m                 \u001b[0mdesc\u001b[0m\u001b[0;34m=\u001b[0m\u001b[0mdesc\u001b[0m\u001b[0;34m,\u001b[0m\u001b[0;34m\u001b[0m\u001b[0;34m\u001b[0m\u001b[0m\n\u001b[0m\u001b[1;32m   2406\u001b[0m             )\n\u001b[1;32m   2407\u001b[0m         \u001b[0;32melse\u001b[0m\u001b[0;34m:\u001b[0m\u001b[0;34m\u001b[0m\u001b[0;34m\u001b[0m\u001b[0m\n",
      "\u001b[0;32m~/.conda/envs/py3.6/lib/python3.6/site-packages/datasets/arrow_dataset.py\u001b[0m in \u001b[0;36mwrapper\u001b[0;34m(*args, **kwargs)\u001b[0m\n\u001b[1;32m    555\u001b[0m             \u001b[0mself\u001b[0m\u001b[0;34m:\u001b[0m \u001b[0;34m\"Dataset\"\u001b[0m \u001b[0;34m=\u001b[0m \u001b[0mkwargs\u001b[0m\u001b[0;34m.\u001b[0m\u001b[0mpop\u001b[0m\u001b[0;34m(\u001b[0m\u001b[0;34m\"self\"\u001b[0m\u001b[0;34m)\u001b[0m\u001b[0;34m\u001b[0m\u001b[0;34m\u001b[0m\u001b[0m\n\u001b[1;32m    556\u001b[0m         \u001b[0;31m# apply actual function\u001b[0m\u001b[0;34m\u001b[0m\u001b[0;34m\u001b[0m\u001b[0;34m\u001b[0m\u001b[0m\n\u001b[0;32m--> 557\u001b[0;31m         \u001b[0mout\u001b[0m\u001b[0;34m:\u001b[0m \u001b[0mUnion\u001b[0m\u001b[0;34m[\u001b[0m\u001b[0;34m\"Dataset\"\u001b[0m\u001b[0;34m,\u001b[0m \u001b[0;34m\"DatasetDict\"\u001b[0m\u001b[0;34m]\u001b[0m \u001b[0;34m=\u001b[0m \u001b[0mfunc\u001b[0m\u001b[0;34m(\u001b[0m\u001b[0mself\u001b[0m\u001b[0;34m,\u001b[0m \u001b[0;34m*\u001b[0m\u001b[0margs\u001b[0m\u001b[0;34m,\u001b[0m \u001b[0;34m**\u001b[0m\u001b[0mkwargs\u001b[0m\u001b[0;34m)\u001b[0m\u001b[0;34m\u001b[0m\u001b[0;34m\u001b[0m\u001b[0m\n\u001b[0m\u001b[1;32m    558\u001b[0m         \u001b[0mdatasets\u001b[0m\u001b[0;34m:\u001b[0m \u001b[0mList\u001b[0m\u001b[0;34m[\u001b[0m\u001b[0;34m\"Dataset\"\u001b[0m\u001b[0;34m]\u001b[0m \u001b[0;34m=\u001b[0m \u001b[0mlist\u001b[0m\u001b[0;34m(\u001b[0m\u001b[0mout\u001b[0m\u001b[0;34m.\u001b[0m\u001b[0mvalues\u001b[0m\u001b[0;34m(\u001b[0m\u001b[0;34m)\u001b[0m\u001b[0;34m)\u001b[0m \u001b[0;32mif\u001b[0m \u001b[0misinstance\u001b[0m\u001b[0;34m(\u001b[0m\u001b[0mout\u001b[0m\u001b[0;34m,\u001b[0m \u001b[0mdict\u001b[0m\u001b[0;34m)\u001b[0m \u001b[0;32melse\u001b[0m \u001b[0;34m[\u001b[0m\u001b[0mout\u001b[0m\u001b[0;34m]\u001b[0m\u001b[0;34m\u001b[0m\u001b[0;34m\u001b[0m\u001b[0m\n\u001b[1;32m    559\u001b[0m         \u001b[0;32mfor\u001b[0m \u001b[0mdataset\u001b[0m \u001b[0;32min\u001b[0m \u001b[0mdatasets\u001b[0m\u001b[0;34m:\u001b[0m\u001b[0;34m\u001b[0m\u001b[0;34m\u001b[0m\u001b[0m\n",
      "\u001b[0;32m~/.conda/envs/py3.6/lib/python3.6/site-packages/datasets/arrow_dataset.py\u001b[0m in \u001b[0;36mwrapper\u001b[0;34m(*args, **kwargs)\u001b[0m\n\u001b[1;32m    522\u001b[0m         }\n\u001b[1;32m    523\u001b[0m         \u001b[0;31m# apply actual function\u001b[0m\u001b[0;34m\u001b[0m\u001b[0;34m\u001b[0m\u001b[0;34m\u001b[0m\u001b[0m\n\u001b[0;32m--> 524\u001b[0;31m         \u001b[0mout\u001b[0m\u001b[0;34m:\u001b[0m \u001b[0mUnion\u001b[0m\u001b[0;34m[\u001b[0m\u001b[0;34m\"Dataset\"\u001b[0m\u001b[0;34m,\u001b[0m \u001b[0;34m\"DatasetDict\"\u001b[0m\u001b[0;34m]\u001b[0m \u001b[0;34m=\u001b[0m \u001b[0mfunc\u001b[0m\u001b[0;34m(\u001b[0m\u001b[0mself\u001b[0m\u001b[0;34m,\u001b[0m \u001b[0;34m*\u001b[0m\u001b[0margs\u001b[0m\u001b[0;34m,\u001b[0m \u001b[0;34m**\u001b[0m\u001b[0mkwargs\u001b[0m\u001b[0;34m)\u001b[0m\u001b[0;34m\u001b[0m\u001b[0;34m\u001b[0m\u001b[0m\n\u001b[0m\u001b[1;32m    525\u001b[0m         \u001b[0mdatasets\u001b[0m\u001b[0;34m:\u001b[0m \u001b[0mList\u001b[0m\u001b[0;34m[\u001b[0m\u001b[0;34m\"Dataset\"\u001b[0m\u001b[0;34m]\u001b[0m \u001b[0;34m=\u001b[0m \u001b[0mlist\u001b[0m\u001b[0;34m(\u001b[0m\u001b[0mout\u001b[0m\u001b[0;34m.\u001b[0m\u001b[0mvalues\u001b[0m\u001b[0;34m(\u001b[0m\u001b[0;34m)\u001b[0m\u001b[0;34m)\u001b[0m \u001b[0;32mif\u001b[0m \u001b[0misinstance\u001b[0m\u001b[0;34m(\u001b[0m\u001b[0mout\u001b[0m\u001b[0;34m,\u001b[0m \u001b[0mdict\u001b[0m\u001b[0;34m)\u001b[0m \u001b[0;32melse\u001b[0m \u001b[0;34m[\u001b[0m\u001b[0mout\u001b[0m\u001b[0;34m]\u001b[0m\u001b[0;34m\u001b[0m\u001b[0;34m\u001b[0m\u001b[0m\n\u001b[1;32m    526\u001b[0m         \u001b[0;31m# re-apply format to the output\u001b[0m\u001b[0;34m\u001b[0m\u001b[0;34m\u001b[0m\u001b[0;34m\u001b[0m\u001b[0m\n",
      "\u001b[0;32m~/.conda/envs/py3.6/lib/python3.6/site-packages/datasets/fingerprint.py\u001b[0m in \u001b[0;36mwrapper\u001b[0;34m(*args, **kwargs)\u001b[0m\n\u001b[1;32m    431\u001b[0m             \u001b[0mkwargs_for_fingerprint\u001b[0m \u001b[0;34m=\u001b[0m \u001b[0mkwargs\u001b[0m\u001b[0;34m.\u001b[0m\u001b[0mcopy\u001b[0m\u001b[0;34m(\u001b[0m\u001b[0;34m)\u001b[0m\u001b[0;34m\u001b[0m\u001b[0;34m\u001b[0m\u001b[0m\n\u001b[1;32m    432\u001b[0m             \u001b[0;32mif\u001b[0m \u001b[0margs\u001b[0m\u001b[0;34m:\u001b[0m\u001b[0;34m\u001b[0m\u001b[0;34m\u001b[0m\u001b[0m\n\u001b[0;32m--> 433\u001b[0;31m                 \u001b[0mparams\u001b[0m \u001b[0;34m=\u001b[0m \u001b[0;34m[\u001b[0m\u001b[0mp\u001b[0m\u001b[0;34m.\u001b[0m\u001b[0mname\u001b[0m \u001b[0;32mfor\u001b[0m \u001b[0mp\u001b[0m \u001b[0;32min\u001b[0m \u001b[0minspect\u001b[0m\u001b[0;34m.\u001b[0m\u001b[0msignature\u001b[0m\u001b[0;34m(\u001b[0m\u001b[0mfunc\u001b[0m\u001b[0;34m)\u001b[0m\u001b[0;34m.\u001b[0m\u001b[0mparameters\u001b[0m\u001b[0;34m.\u001b[0m\u001b[0mvalues\u001b[0m\u001b[0;34m(\u001b[0m\u001b[0;34m)\u001b[0m \u001b[0;32mif\u001b[0m \u001b[0mp\u001b[0m \u001b[0;34m!=\u001b[0m \u001b[0mp\u001b[0m\u001b[0;34m.\u001b[0m\u001b[0mVAR_KEYWORD\u001b[0m\u001b[0;34m]\u001b[0m\u001b[0;34m\u001b[0m\u001b[0;34m\u001b[0m\u001b[0m\n\u001b[0m\u001b[1;32m    434\u001b[0m                 \u001b[0mself\u001b[0m\u001b[0;34m:\u001b[0m \u001b[0;34m\"Dataset\"\u001b[0m \u001b[0;34m=\u001b[0m \u001b[0margs\u001b[0m\u001b[0;34m[\u001b[0m\u001b[0;36m0\u001b[0m\u001b[0;34m]\u001b[0m\u001b[0;34m\u001b[0m\u001b[0;34m\u001b[0m\u001b[0m\n\u001b[1;32m    435\u001b[0m                 \u001b[0margs\u001b[0m \u001b[0;34m=\u001b[0m \u001b[0margs\u001b[0m\u001b[0;34m[\u001b[0m\u001b[0;36m1\u001b[0m\u001b[0;34m:\u001b[0m\u001b[0;34m]\u001b[0m\u001b[0;34m\u001b[0m\u001b[0;34m\u001b[0m\u001b[0m\n",
      "\u001b[0;32m~/.conda/envs/py3.6/lib/python3.6/inspect.py\u001b[0m in \u001b[0;36msignature\u001b[0;34m(obj, follow_wrapped)\u001b[0m\n\u001b[1;32m   3063\u001b[0m \u001b[0;32mdef\u001b[0m \u001b[0msignature\u001b[0m\u001b[0;34m(\u001b[0m\u001b[0mobj\u001b[0m\u001b[0;34m,\u001b[0m \u001b[0;34m*\u001b[0m\u001b[0;34m,\u001b[0m \u001b[0mfollow_wrapped\u001b[0m\u001b[0;34m=\u001b[0m\u001b[0;32mTrue\u001b[0m\u001b[0;34m)\u001b[0m\u001b[0;34m:\u001b[0m\u001b[0;34m\u001b[0m\u001b[0;34m\u001b[0m\u001b[0m\n\u001b[1;32m   3064\u001b[0m     \u001b[0;34m\"\"\"Get a signature object for the passed callable.\"\"\"\u001b[0m\u001b[0;34m\u001b[0m\u001b[0;34m\u001b[0m\u001b[0m\n\u001b[0;32m-> 3065\u001b[0;31m     \u001b[0;32mreturn\u001b[0m \u001b[0mSignature\u001b[0m\u001b[0;34m.\u001b[0m\u001b[0mfrom_callable\u001b[0m\u001b[0;34m(\u001b[0m\u001b[0mobj\u001b[0m\u001b[0;34m,\u001b[0m \u001b[0mfollow_wrapped\u001b[0m\u001b[0;34m=\u001b[0m\u001b[0mfollow_wrapped\u001b[0m\u001b[0;34m)\u001b[0m\u001b[0;34m\u001b[0m\u001b[0;34m\u001b[0m\u001b[0m\n\u001b[0m\u001b[1;32m   3066\u001b[0m \u001b[0;34m\u001b[0m\u001b[0m\n\u001b[1;32m   3067\u001b[0m \u001b[0;34m\u001b[0m\u001b[0m\n",
      "\u001b[0;32m~/.conda/envs/py3.6/lib/python3.6/inspect.py\u001b[0m in \u001b[0;36mfrom_callable\u001b[0;34m(cls, obj, follow_wrapped)\u001b[0m\n\u001b[1;32m   2813\u001b[0m         \u001b[0;34m\"\"\"Constructs Signature for the given callable object.\"\"\"\u001b[0m\u001b[0;34m\u001b[0m\u001b[0;34m\u001b[0m\u001b[0m\n\u001b[1;32m   2814\u001b[0m         return _signature_from_callable(obj, sigcls=cls,\n\u001b[0;32m-> 2815\u001b[0;31m                                         follow_wrapper_chains=follow_wrapped)\n\u001b[0m\u001b[1;32m   2816\u001b[0m \u001b[0;34m\u001b[0m\u001b[0m\n\u001b[1;32m   2817\u001b[0m     \u001b[0;34m@\u001b[0m\u001b[0mproperty\u001b[0m\u001b[0;34m\u001b[0m\u001b[0;34m\u001b[0m\u001b[0m\n",
      "\u001b[0;32m~/.conda/envs/py3.6/lib/python3.6/inspect.py\u001b[0m in \u001b[0;36m_signature_from_callable\u001b[0;34m(obj, follow_wrapper_chains, skip_bound_arg, sigcls)\u001b[0m\n\u001b[1;32m   2267\u001b[0m         \u001b[0;31m# If it's a pure Python function, or an object that is duck type\u001b[0m\u001b[0;34m\u001b[0m\u001b[0;34m\u001b[0m\u001b[0;34m\u001b[0m\u001b[0m\n\u001b[1;32m   2268\u001b[0m         \u001b[0;31m# of a Python function (Cython functions, for instance), then:\u001b[0m\u001b[0;34m\u001b[0m\u001b[0;34m\u001b[0m\u001b[0;34m\u001b[0m\u001b[0m\n\u001b[0;32m-> 2269\u001b[0;31m         \u001b[0;32mreturn\u001b[0m \u001b[0m_signature_from_function\u001b[0m\u001b[0;34m(\u001b[0m\u001b[0msigcls\u001b[0m\u001b[0;34m,\u001b[0m \u001b[0mobj\u001b[0m\u001b[0;34m)\u001b[0m\u001b[0;34m\u001b[0m\u001b[0;34m\u001b[0m\u001b[0m\n\u001b[0m\u001b[1;32m   2270\u001b[0m \u001b[0;34m\u001b[0m\u001b[0m\n\u001b[1;32m   2271\u001b[0m     \u001b[0;32mif\u001b[0m \u001b[0m_signature_is_builtin\u001b[0m\u001b[0;34m(\u001b[0m\u001b[0mobj\u001b[0m\u001b[0;34m)\u001b[0m\u001b[0;34m:\u001b[0m\u001b[0;34m\u001b[0m\u001b[0;34m\u001b[0m\u001b[0m\n",
      "\u001b[0;32m~/.conda/envs/py3.6/lib/python3.6/inspect.py\u001b[0m in \u001b[0;36m_signature_from_function\u001b[0;34m(cls, func)\u001b[0m\n\u001b[1;32m   2144\u001b[0m         parameters.append(Parameter(name, annotation=annotation,\n\u001b[1;32m   2145\u001b[0m                                     \u001b[0mkind\u001b[0m\u001b[0;34m=\u001b[0m\u001b[0m_POSITIONAL_OR_KEYWORD\u001b[0m\u001b[0;34m,\u001b[0m\u001b[0;34m\u001b[0m\u001b[0;34m\u001b[0m\u001b[0m\n\u001b[0;32m-> 2146\u001b[0;31m                                     default=defaults[offset]))\n\u001b[0m\u001b[1;32m   2147\u001b[0m \u001b[0;34m\u001b[0m\u001b[0m\n\u001b[1;32m   2148\u001b[0m     \u001b[0;31m# *args\u001b[0m\u001b[0;34m\u001b[0m\u001b[0;34m\u001b[0m\u001b[0;34m\u001b[0m\u001b[0m\n",
      "\u001b[0;32m~/.conda/envs/py3.6/lib/python3.6/inspect.py\u001b[0m in \u001b[0;36m__init__\u001b[0;34m(self, name, kind, default, annotation)\u001b[0m\n\u001b[1;32m   2452\u001b[0m     \u001b[0;32mdef\u001b[0m \u001b[0m__init__\u001b[0m\u001b[0;34m(\u001b[0m\u001b[0mself\u001b[0m\u001b[0;34m,\u001b[0m \u001b[0mname\u001b[0m\u001b[0;34m,\u001b[0m \u001b[0mkind\u001b[0m\u001b[0;34m,\u001b[0m \u001b[0;34m*\u001b[0m\u001b[0;34m,\u001b[0m \u001b[0mdefault\u001b[0m\u001b[0;34m=\u001b[0m\u001b[0m_empty\u001b[0m\u001b[0;34m,\u001b[0m \u001b[0mannotation\u001b[0m\u001b[0;34m=\u001b[0m\u001b[0m_empty\u001b[0m\u001b[0;34m)\u001b[0m\u001b[0;34m:\u001b[0m\u001b[0;34m\u001b[0m\u001b[0;34m\u001b[0m\u001b[0m\n\u001b[1;32m   2453\u001b[0m         \u001b[0;32mtry\u001b[0m\u001b[0;34m:\u001b[0m\u001b[0;34m\u001b[0m\u001b[0;34m\u001b[0m\u001b[0m\n\u001b[0;32m-> 2454\u001b[0;31m             \u001b[0mself\u001b[0m\u001b[0;34m.\u001b[0m\u001b[0m_kind\u001b[0m \u001b[0;34m=\u001b[0m \u001b[0m_ParameterKind\u001b[0m\u001b[0;34m(\u001b[0m\u001b[0mkind\u001b[0m\u001b[0;34m)\u001b[0m\u001b[0;34m\u001b[0m\u001b[0;34m\u001b[0m\u001b[0m\n\u001b[0m\u001b[1;32m   2455\u001b[0m         \u001b[0;32mexcept\u001b[0m \u001b[0mValueError\u001b[0m\u001b[0;34m:\u001b[0m\u001b[0;34m\u001b[0m\u001b[0;34m\u001b[0m\u001b[0m\n\u001b[1;32m   2456\u001b[0m             \u001b[0;32mraise\u001b[0m \u001b[0mValueError\u001b[0m\u001b[0;34m(\u001b[0m\u001b[0;34mf'value {kind!r} is not a valid Parameter.kind'\u001b[0m\u001b[0;34m)\u001b[0m\u001b[0;34m\u001b[0m\u001b[0;34m\u001b[0m\u001b[0m\n",
      "\u001b[0;31mKeyboardInterrupt\u001b[0m: "
     ]
    }
   ],
   "source": [
    "for i, dialect in enumerate(dialects):\n",
    "    dia = getattr(value, dialect)()\n",
    "    # try:\n",
    "    dia_ds = ds.map(map_copa, fn_kwargs={\"dia\": dia})\n",
    "    # except:\n",
    "    #     continue\n",
    "    for split in dia_ds:\n",
    "        try:\n",
    "            os.mkdir(f\"dia_copa/{dia_codes[i]}\")\n",
    "        except:\n",
    "            print(\"dir_exists\")\n",
    "        dia_ds[split].to_csv(f\"dia_copa/{dia_codes[i]}/{split}.csv\")\n",
    "        "
   ]
  },
  {
   "cell_type": "code",
   "execution_count": 11,
   "id": "1c4a316e-2cd1-4dfd-acb2-f0e7dc2c22a3",
   "metadata": {},
   "outputs": [],
   "source": [
    "import yaml"
   ]
  },
  {
   "cell_type": "code",
   "execution_count": 12,
   "id": "f495a673-7e4e-4047-8e3b-48aa0008240a",
   "metadata": {},
   "outputs": [],
   "source": [
    "import datasets"
   ]
  },
  {
   "cell_type": "code",
   "execution_count": 13,
   "id": "09b9f58b-a3c0-4e2f-98d5-019c238dfddf",
   "metadata": {},
   "outputs": [],
   "source": [
    "datasets.disable_caching()"
   ]
  },
  {
   "cell_type": "code",
   "execution_count": 14,
   "id": "84233e2f-81fc-49db-8f6b-fe9b5b40a99e",
   "metadata": {},
   "outputs": [],
   "source": [
    "from datasets import load_dataset"
   ]
  },
  {
   "cell_type": "code",
   "execution_count": 21,
   "id": "96dcc33e-06ad-4221-8b0b-35ba3d419090",
   "metadata": {},
   "outputs": [
    {
     "ename": "ValueError",
     "evalue": "Config name is missing.\nPlease pick one among the available configs: ['abo', 'afr', 'app', 'aus', 'au1', 'bah', 'bla', 'cam', 'cap', 'cha', 'chi', 'col', 'co1', 'dia', 'di1', 'ear', 'eas', 'fal', 'fij', 'fi1', 'gha', 'hon', 'ind', 'in1', 'iri', 'jam', 'ken', 'lib', 'mal', 'ma1', 'man', 'new', 'ne1', 'nig', 'nor', 'ork', 'oza', 'pak', 'phi', 'rur', 'sco', 'sou', 'so1', 'so2', 'sri', 'sth', 'tan', 'tri', 'uga', 'wel', 'whi', 'wh1']\nExample of usage:\n\t`load_dataset('dia_copa', 'abo')`",
     "output_type": "error",
     "traceback": [
      "\u001b[0;31m---------------------------------------------------------------------------\u001b[0m",
      "\u001b[0;31mValueError\u001b[0m                                Traceback (most recent call last)",
      "Cell \u001b[0;32mIn[21], line 1\u001b[0m\n\u001b[0;32m----> 1\u001b[0m dia_copa \u001b[38;5;241m=\u001b[39m \u001b[43mload_dataset\u001b[49m\u001b[43m(\u001b[49m\u001b[38;5;124;43m\"\u001b[39;49m\u001b[38;5;124;43m./dia_copa\u001b[39;49m\u001b[38;5;124;43m\"\u001b[39;49m\u001b[43m,\u001b[49m\u001b[43m \u001b[49m\u001b[43mcache_dir\u001b[49m\u001b[38;5;241;43m=\u001b[39;49m\u001b[38;5;124;43m\"\u001b[39;49m\u001b[38;5;124;43m./.cache\u001b[39;49m\u001b[38;5;124;43m\"\u001b[39;49m\u001b[43m)\u001b[49m\n",
      "File \u001b[0;32m~/.conda/envs/hw1/lib/python3.9/site-packages/datasets/load.py:2523\u001b[0m, in \u001b[0;36mload_dataset\u001b[0;34m(path, name, data_dir, data_files, split, cache_dir, features, download_config, download_mode, verification_mode, ignore_verifications, keep_in_memory, save_infos, revision, token, use_auth_token, task, streaming, num_proc, storage_options, trust_remote_code, **config_kwargs)\u001b[0m\n\u001b[1;32m   2518\u001b[0m verification_mode \u001b[38;5;241m=\u001b[39m VerificationMode(\n\u001b[1;32m   2519\u001b[0m     (verification_mode \u001b[38;5;129;01mor\u001b[39;00m VerificationMode\u001b[38;5;241m.\u001b[39mBASIC_CHECKS) \u001b[38;5;28;01mif\u001b[39;00m \u001b[38;5;129;01mnot\u001b[39;00m save_infos \u001b[38;5;28;01melse\u001b[39;00m VerificationMode\u001b[38;5;241m.\u001b[39mALL_CHECKS\n\u001b[1;32m   2520\u001b[0m )\n\u001b[1;32m   2522\u001b[0m \u001b[38;5;66;03m# Create a dataset builder\u001b[39;00m\n\u001b[0;32m-> 2523\u001b[0m builder_instance \u001b[38;5;241m=\u001b[39m \u001b[43mload_dataset_builder\u001b[49m\u001b[43m(\u001b[49m\n\u001b[1;32m   2524\u001b[0m \u001b[43m    \u001b[49m\u001b[43mpath\u001b[49m\u001b[38;5;241;43m=\u001b[39;49m\u001b[43mpath\u001b[49m\u001b[43m,\u001b[49m\n\u001b[1;32m   2525\u001b[0m \u001b[43m    \u001b[49m\u001b[43mname\u001b[49m\u001b[38;5;241;43m=\u001b[39;49m\u001b[43mname\u001b[49m\u001b[43m,\u001b[49m\n\u001b[1;32m   2526\u001b[0m \u001b[43m    \u001b[49m\u001b[43mdata_dir\u001b[49m\u001b[38;5;241;43m=\u001b[39;49m\u001b[43mdata_dir\u001b[49m\u001b[43m,\u001b[49m\n\u001b[1;32m   2527\u001b[0m \u001b[43m    \u001b[49m\u001b[43mdata_files\u001b[49m\u001b[38;5;241;43m=\u001b[39;49m\u001b[43mdata_files\u001b[49m\u001b[43m,\u001b[49m\n\u001b[1;32m   2528\u001b[0m \u001b[43m    \u001b[49m\u001b[43mcache_dir\u001b[49m\u001b[38;5;241;43m=\u001b[39;49m\u001b[43mcache_dir\u001b[49m\u001b[43m,\u001b[49m\n\u001b[1;32m   2529\u001b[0m \u001b[43m    \u001b[49m\u001b[43mfeatures\u001b[49m\u001b[38;5;241;43m=\u001b[39;49m\u001b[43mfeatures\u001b[49m\u001b[43m,\u001b[49m\n\u001b[1;32m   2530\u001b[0m \u001b[43m    \u001b[49m\u001b[43mdownload_config\u001b[49m\u001b[38;5;241;43m=\u001b[39;49m\u001b[43mdownload_config\u001b[49m\u001b[43m,\u001b[49m\n\u001b[1;32m   2531\u001b[0m \u001b[43m    \u001b[49m\u001b[43mdownload_mode\u001b[49m\u001b[38;5;241;43m=\u001b[39;49m\u001b[43mdownload_mode\u001b[49m\u001b[43m,\u001b[49m\n\u001b[1;32m   2532\u001b[0m \u001b[43m    \u001b[49m\u001b[43mrevision\u001b[49m\u001b[38;5;241;43m=\u001b[39;49m\u001b[43mrevision\u001b[49m\u001b[43m,\u001b[49m\n\u001b[1;32m   2533\u001b[0m \u001b[43m    \u001b[49m\u001b[43mtoken\u001b[49m\u001b[38;5;241;43m=\u001b[39;49m\u001b[43mtoken\u001b[49m\u001b[43m,\u001b[49m\n\u001b[1;32m   2534\u001b[0m \u001b[43m    \u001b[49m\u001b[43mstorage_options\u001b[49m\u001b[38;5;241;43m=\u001b[39;49m\u001b[43mstorage_options\u001b[49m\u001b[43m,\u001b[49m\n\u001b[1;32m   2535\u001b[0m \u001b[43m    \u001b[49m\u001b[43mtrust_remote_code\u001b[49m\u001b[38;5;241;43m=\u001b[39;49m\u001b[43mtrust_remote_code\u001b[49m\u001b[43m,\u001b[49m\n\u001b[1;32m   2536\u001b[0m \u001b[43m    \u001b[49m\u001b[43m_require_default_config_name\u001b[49m\u001b[38;5;241;43m=\u001b[39;49m\u001b[43mname\u001b[49m\u001b[43m \u001b[49m\u001b[38;5;129;43;01mis\u001b[39;49;00m\u001b[43m \u001b[49m\u001b[38;5;28;43;01mNone\u001b[39;49;00m\u001b[43m,\u001b[49m\n\u001b[1;32m   2537\u001b[0m \u001b[43m    \u001b[49m\u001b[38;5;241;43m*\u001b[39;49m\u001b[38;5;241;43m*\u001b[39;49m\u001b[43mconfig_kwargs\u001b[49m\u001b[43m,\u001b[49m\n\u001b[1;32m   2538\u001b[0m \u001b[43m\u001b[49m\u001b[43m)\u001b[49m\n\u001b[1;32m   2540\u001b[0m \u001b[38;5;66;03m# Return iterable dataset in case of streaming\u001b[39;00m\n\u001b[1;32m   2541\u001b[0m \u001b[38;5;28;01mif\u001b[39;00m streaming:\n",
      "File \u001b[0;32m~/.conda/envs/hw1/lib/python3.9/site-packages/datasets/load.py:2232\u001b[0m, in \u001b[0;36mload_dataset_builder\u001b[0;34m(path, name, data_dir, data_files, cache_dir, features, download_config, download_mode, revision, token, use_auth_token, storage_options, trust_remote_code, _require_default_config_name, **config_kwargs)\u001b[0m\n\u001b[1;32m   2230\u001b[0m builder_cls \u001b[38;5;241m=\u001b[39m get_dataset_builder_class(dataset_module, dataset_name\u001b[38;5;241m=\u001b[39mdataset_name)\n\u001b[1;32m   2231\u001b[0m \u001b[38;5;66;03m# Instantiate the dataset builder\u001b[39;00m\n\u001b[0;32m-> 2232\u001b[0m builder_instance: DatasetBuilder \u001b[38;5;241m=\u001b[39m \u001b[43mbuilder_cls\u001b[49m\u001b[43m(\u001b[49m\n\u001b[1;32m   2233\u001b[0m \u001b[43m    \u001b[49m\u001b[43mcache_dir\u001b[49m\u001b[38;5;241;43m=\u001b[39;49m\u001b[43mcache_dir\u001b[49m\u001b[43m,\u001b[49m\n\u001b[1;32m   2234\u001b[0m \u001b[43m    \u001b[49m\u001b[43mdataset_name\u001b[49m\u001b[38;5;241;43m=\u001b[39;49m\u001b[43mdataset_name\u001b[49m\u001b[43m,\u001b[49m\n\u001b[1;32m   2235\u001b[0m \u001b[43m    \u001b[49m\u001b[43mconfig_name\u001b[49m\u001b[38;5;241;43m=\u001b[39;49m\u001b[43mconfig_name\u001b[49m\u001b[43m,\u001b[49m\n\u001b[1;32m   2236\u001b[0m \u001b[43m    \u001b[49m\u001b[43mdata_dir\u001b[49m\u001b[38;5;241;43m=\u001b[39;49m\u001b[43mdata_dir\u001b[49m\u001b[43m,\u001b[49m\n\u001b[1;32m   2237\u001b[0m \u001b[43m    \u001b[49m\u001b[43mdata_files\u001b[49m\u001b[38;5;241;43m=\u001b[39;49m\u001b[43mdata_files\u001b[49m\u001b[43m,\u001b[49m\n\u001b[1;32m   2238\u001b[0m \u001b[43m    \u001b[49m\u001b[38;5;28;43mhash\u001b[39;49m\u001b[38;5;241;43m=\u001b[39;49m\u001b[43mdataset_module\u001b[49m\u001b[38;5;241;43m.\u001b[39;49m\u001b[43mhash\u001b[49m\u001b[43m,\u001b[49m\n\u001b[1;32m   2239\u001b[0m \u001b[43m    \u001b[49m\u001b[43minfo\u001b[49m\u001b[38;5;241;43m=\u001b[39;49m\u001b[43minfo\u001b[49m\u001b[43m,\u001b[49m\n\u001b[1;32m   2240\u001b[0m \u001b[43m    \u001b[49m\u001b[43mfeatures\u001b[49m\u001b[38;5;241;43m=\u001b[39;49m\u001b[43mfeatures\u001b[49m\u001b[43m,\u001b[49m\n\u001b[1;32m   2241\u001b[0m \u001b[43m    \u001b[49m\u001b[43mtoken\u001b[49m\u001b[38;5;241;43m=\u001b[39;49m\u001b[43mtoken\u001b[49m\u001b[43m,\u001b[49m\n\u001b[1;32m   2242\u001b[0m \u001b[43m    \u001b[49m\u001b[43mstorage_options\u001b[49m\u001b[38;5;241;43m=\u001b[39;49m\u001b[43mstorage_options\u001b[49m\u001b[43m,\u001b[49m\n\u001b[1;32m   2243\u001b[0m \u001b[43m    \u001b[49m\u001b[38;5;241;43m*\u001b[39;49m\u001b[38;5;241;43m*\u001b[39;49m\u001b[43mbuilder_kwargs\u001b[49m\u001b[43m,\u001b[49m\n\u001b[1;32m   2244\u001b[0m \u001b[43m    \u001b[49m\u001b[38;5;241;43m*\u001b[39;49m\u001b[38;5;241;43m*\u001b[39;49m\u001b[43mconfig_kwargs\u001b[49m\u001b[43m,\u001b[49m\n\u001b[1;32m   2245\u001b[0m \u001b[43m\u001b[49m\u001b[43m)\u001b[49m\n\u001b[1;32m   2246\u001b[0m builder_instance\u001b[38;5;241m.\u001b[39m_use_legacy_cache_dir_if_possible(dataset_module)\n\u001b[1;32m   2248\u001b[0m \u001b[38;5;28;01mreturn\u001b[39;00m builder_instance\n",
      "File \u001b[0;32m~/.conda/envs/hw1/lib/python3.9/site-packages/datasets/builder.py:371\u001b[0m, in \u001b[0;36mDatasetBuilder.__init__\u001b[0;34m(self, cache_dir, dataset_name, config_name, hash, base_path, info, features, token, use_auth_token, repo_id, data_files, data_dir, storage_options, writer_batch_size, name, **config_kwargs)\u001b[0m\n\u001b[1;32m    369\u001b[0m \u001b[38;5;28;01mif\u001b[39;00m data_dir \u001b[38;5;129;01mis\u001b[39;00m \u001b[38;5;129;01mnot\u001b[39;00m \u001b[38;5;28;01mNone\u001b[39;00m:\n\u001b[1;32m    370\u001b[0m     config_kwargs[\u001b[38;5;124m\"\u001b[39m\u001b[38;5;124mdata_dir\u001b[39m\u001b[38;5;124m\"\u001b[39m] \u001b[38;5;241m=\u001b[39m data_dir\n\u001b[0;32m--> 371\u001b[0m \u001b[38;5;28mself\u001b[39m\u001b[38;5;241m.\u001b[39mconfig, \u001b[38;5;28mself\u001b[39m\u001b[38;5;241m.\u001b[39mconfig_id \u001b[38;5;241m=\u001b[39m \u001b[38;5;28;43mself\u001b[39;49m\u001b[38;5;241;43m.\u001b[39;49m\u001b[43m_create_builder_config\u001b[49m\u001b[43m(\u001b[49m\n\u001b[1;32m    372\u001b[0m \u001b[43m    \u001b[49m\u001b[43mconfig_name\u001b[49m\u001b[38;5;241;43m=\u001b[39;49m\u001b[43mconfig_name\u001b[49m\u001b[43m,\u001b[49m\n\u001b[1;32m    373\u001b[0m \u001b[43m    \u001b[49m\u001b[43mcustom_features\u001b[49m\u001b[38;5;241;43m=\u001b[39;49m\u001b[43mfeatures\u001b[49m\u001b[43m,\u001b[49m\n\u001b[1;32m    374\u001b[0m \u001b[43m    \u001b[49m\u001b[38;5;241;43m*\u001b[39;49m\u001b[38;5;241;43m*\u001b[39;49m\u001b[43mconfig_kwargs\u001b[49m\u001b[43m,\u001b[49m\n\u001b[1;32m    375\u001b[0m \u001b[43m\u001b[49m\u001b[43m)\u001b[49m\n\u001b[1;32m    377\u001b[0m \u001b[38;5;66;03m# prepare info: DatasetInfo are a standardized dataclass across all datasets\u001b[39;00m\n\u001b[1;32m    378\u001b[0m \u001b[38;5;66;03m# Prefill datasetinfo\u001b[39;00m\n\u001b[1;32m    379\u001b[0m \u001b[38;5;28;01mif\u001b[39;00m info \u001b[38;5;129;01mis\u001b[39;00m \u001b[38;5;28;01mNone\u001b[39;00m:\n\u001b[1;32m    380\u001b[0m     \u001b[38;5;66;03m# TODO FOR PACKAGED MODULES IT IMPORTS DATA FROM src/packaged_modules which doesn't make sense\u001b[39;00m\n",
      "File \u001b[0;32m~/.conda/envs/hw1/lib/python3.9/site-packages/datasets/builder.py:577\u001b[0m, in \u001b[0;36mDatasetBuilder._create_builder_config\u001b[0;34m(self, config_name, custom_features, **config_kwargs)\u001b[0m\n\u001b[1;32m    575\u001b[0m     \u001b[38;5;28;01mif\u001b[39;00m \u001b[38;5;129;01mnot\u001b[39;00m config_kwargs:\n\u001b[1;32m    576\u001b[0m         example_of_usage \u001b[38;5;241m=\u001b[39m \u001b[38;5;124mf\u001b[39m\u001b[38;5;124m\"\u001b[39m\u001b[38;5;124mload_dataset(\u001b[39m\u001b[38;5;124m'\u001b[39m\u001b[38;5;132;01m{\u001b[39;00m\u001b[38;5;28mself\u001b[39m\u001b[38;5;241m.\u001b[39mdataset_name\u001b[38;5;132;01m}\u001b[39;00m\u001b[38;5;124m'\u001b[39m\u001b[38;5;124m, \u001b[39m\u001b[38;5;124m'\u001b[39m\u001b[38;5;132;01m{\u001b[39;00m\u001b[38;5;28mself\u001b[39m\u001b[38;5;241m.\u001b[39mBUILDER_CONFIGS[\u001b[38;5;241m0\u001b[39m]\u001b[38;5;241m.\u001b[39mname\u001b[38;5;132;01m}\u001b[39;00m\u001b[38;5;124m'\u001b[39m\u001b[38;5;124m)\u001b[39m\u001b[38;5;124m\"\u001b[39m\n\u001b[0;32m--> 577\u001b[0m         \u001b[38;5;28;01mraise\u001b[39;00m \u001b[38;5;167;01mValueError\u001b[39;00m(\n\u001b[1;32m    578\u001b[0m             \u001b[38;5;124m\"\u001b[39m\u001b[38;5;124mConfig name is missing.\u001b[39m\u001b[38;5;124m\"\u001b[39m\n\u001b[1;32m    579\u001b[0m             \u001b[38;5;124mf\u001b[39m\u001b[38;5;124m\"\u001b[39m\u001b[38;5;130;01m\\n\u001b[39;00m\u001b[38;5;124mPlease pick one among the available configs: \u001b[39m\u001b[38;5;132;01m{\u001b[39;00m\u001b[38;5;28mlist\u001b[39m(\u001b[38;5;28mself\u001b[39m\u001b[38;5;241m.\u001b[39mbuilder_configs\u001b[38;5;241m.\u001b[39mkeys())\u001b[38;5;132;01m}\u001b[39;00m\u001b[38;5;124m\"\u001b[39m\n\u001b[1;32m    580\u001b[0m             \u001b[38;5;241m+\u001b[39m \u001b[38;5;124mf\u001b[39m\u001b[38;5;124m\"\u001b[39m\u001b[38;5;130;01m\\n\u001b[39;00m\u001b[38;5;124mExample of usage:\u001b[39m\u001b[38;5;130;01m\\n\u001b[39;00m\u001b[38;5;130;01m\\t\u001b[39;00m\u001b[38;5;124m`\u001b[39m\u001b[38;5;132;01m{\u001b[39;00mexample_of_usage\u001b[38;5;132;01m}\u001b[39;00m\u001b[38;5;124m`\u001b[39m\u001b[38;5;124m\"\u001b[39m\n\u001b[1;32m    581\u001b[0m         )\n\u001b[1;32m    582\u001b[0m \u001b[38;5;28;01melse\u001b[39;00m:\n\u001b[1;32m    583\u001b[0m     builder_config \u001b[38;5;241m=\u001b[39m \u001b[38;5;28mself\u001b[39m\u001b[38;5;241m.\u001b[39mBUILDER_CONFIGS[\u001b[38;5;241m0\u001b[39m]\n",
      "\u001b[0;31mValueError\u001b[0m: Config name is missing.\nPlease pick one among the available configs: ['abo', 'afr', 'app', 'aus', 'au1', 'bah', 'bla', 'cam', 'cap', 'cha', 'chi', 'col', 'co1', 'dia', 'di1', 'ear', 'eas', 'fal', 'fij', 'fi1', 'gha', 'hon', 'ind', 'in1', 'iri', 'jam', 'ken', 'lib', 'mal', 'ma1', 'man', 'new', 'ne1', 'nig', 'nor', 'ork', 'oza', 'pak', 'phi', 'rur', 'sco', 'sou', 'so1', 'so2', 'sri', 'sth', 'tan', 'tri', 'uga', 'wel', 'whi', 'wh1']\nExample of usage:\n\t`load_dataset('dia_copa', 'abo')`"
     ]
    }
   ],
   "source": [
    "dia_copa = load_dataset(\"./dia_copa\", cache_dir=\"./.cache\")"
   ]
  },
  {
   "cell_type": "code",
   "execution_count": null,
   "id": "60aa5504-69f4-4248-8a98-79f528e7d447",
   "metadata": {},
   "outputs": [],
   "source": []
  },
  {
   "cell_type": "code",
   "execution_count": 20,
   "id": "f5aa41ab-7653-46bf-adfd-1628bdef6ba3",
   "metadata": {},
   "outputs": [
    {
     "data": {
      "text/plain": [
       "DatasetDict({\n",
       "    train: Dataset({\n",
       "        features: ['Unnamed: 0', 'premise', 'choice1', 'choice2', 'question', 'idx', 'label'],\n",
       "        num_rows: 400\n",
       "    })\n",
       "    validation: Dataset({\n",
       "        features: ['Unnamed: 0', 'premise', 'choice1', 'choice2', 'question', 'idx', 'label'],\n",
       "        num_rows: 100\n",
       "    })\n",
       "    test: Dataset({\n",
       "        features: ['Unnamed: 0', 'premise', 'choice1', 'choice2', 'question', 'idx', 'label'],\n",
       "        num_rows: 500\n",
       "    })\n",
       "})"
      ]
     },
     "execution_count": 20,
     "metadata": {},
     "output_type": "execute_result"
    }
   ],
   "source": [
    "dia_copa"
   ]
  },
  {
   "cell_type": "code",
   "execution_count": 55,
   "id": "e062eff5-c0ad-4bc3-af9d-dd72c732b061",
   "metadata": {},
   "outputs": [],
   "source": [
    "with open(\"dia_copa/README.md\", \"w\") as f:\n",
    "    f.write(\"---\\n\")\n",
    "    configs = []\n",
    "    for dialect in dia_codes:\n",
    "        configs.append({\"data_files\": [{\n",
    "                  \"path\": f\"{dialect}/train.csv\", \n",
    "                  \"split\": \"train\"\n",
    "                }], \n",
    "              \"config_name\": dialect.lower()})\n",
    "    \n",
    "    yaml.dump({\n",
    "        \"configs\": configs\n",
    "    }, f)\n",
    "    f.write(\"---\\n\")"
   ]
  },
  {
   "cell_type": "code",
   "execution_count": 18,
   "id": "556b02e9-8fd9-4027-9d65-d9597b9084db",
   "metadata": {},
   "outputs": [],
   "source": [
    "with open(\"dia_copa/README.md\", \"w\") as f:\n",
    "    f.write(\"---\\n\")\n",
    "    configs = []\n",
    "    for dialect in dia_codes:\n",
    "        data_files = [\n",
    "                {\n",
    "                  \"path\": f\"{dialect}/{split}.csv\", \n",
    "                  \"split\": split\n",
    "                } \n",
    "\n",
    "              for split in ds]\n",
    "        configs.append({\"data_files\": data_files, \n",
    "              \"config_name\": dialect.lower()})\n",
    "    \n",
    "    yaml.dump({\n",
    "        \"configs\": configs\n",
    "    }, f)\n",
    "    f.write(\"---\\n\")"
   ]
  },
  {
   "cell_type": "code",
   "execution_count": 12,
   "id": "89df50d7-da9b-4887-8224-c5eb0537d572",
   "metadata": {},
   "outputs": [
    {
     "ename": "AttributeError",
     "evalue": "'DatasetDict' object has no attribute 'to_csv'",
     "output_type": "error",
     "traceback": [
      "\u001b[0;31m---------------------------------------------------------------------------\u001b[0m",
      "\u001b[0;31mAttributeError\u001b[0m                            Traceback (most recent call last)",
      "\u001b[0;32m<ipython-input-12-1a2b268242f3>\u001b[0m in \u001b[0;36m<module>\u001b[0;34m\u001b[0m\n\u001b[0;32m----> 1\u001b[0;31m \u001b[0mds\u001b[0m\u001b[0;34m.\u001b[0m\u001b[0mto_csv\u001b[0m\u001b[0;34m(\u001b[0m\u001b[0;34m\"./dia_copa\"\u001b[0m\u001b[0;34m)\u001b[0m\u001b[0;34m\u001b[0m\u001b[0;34m\u001b[0m\u001b[0m\n\u001b[0m",
      "\u001b[0;31mAttributeError\u001b[0m: 'DatasetDict' object has no attribute 'to_csv'"
     ]
    }
   ],
   "source": [
    "ds.to_csv(\"./dia_copa\")"
   ]
  },
  {
   "cell_type": "code",
   "execution_count": 23,
   "id": "f8b63fb0-8c07-4d49-9eef-2f838ce13b87",
   "metadata": {},
   "outputs": [
    {
     "data": {
      "text/plain": [
       "{'AboriginalDialect': Dataset({\n",
       "     features: ['premise', 'choice1', 'choice2', 'question', 'idx', 'label'],\n",
       "     num_rows: 100\n",
       " })}"
      ]
     },
     "execution_count": 23,
     "metadata": {},
     "output_type": "execute_result"
    }
   ],
   "source": [
    "dialect_ds"
   ]
  },
  {
   "cell_type": "code",
   "execution_count": 13,
   "id": "b547f90f-3702-493a-b23e-5c9bf66d9375",
   "metadata": {},
   "outputs": [
    {
     "name": "stdout",
     "output_type": "stream",
     "text": [
      "train\n",
      "validation\n",
      "test\n"
     ]
    }
   ],
   "source": [
    "for split in ds:\n",
    "    print(split)"
   ]
  },
  {
   "cell_type": "code",
   "execution_count": 3,
   "id": "671ed190-271f-4a0f-80d0-0f9455e802ee",
   "metadata": {},
   "outputs": [
    {
     "name": "stdout",
     "output_type": "stream",
     "text": [
      "[VECTOR DIALECT] Black South African English (abbr: BlSAfE)\n",
      "\tRegion: Africa\n",
      "\tLatitude: -25.8\n",
      "\tLongitude: 28.55\n"
     ]
    }
   ],
   "source": [
    "hke = value.BlackSouthAfricanDialect()\n",
    "print(hke)"
   ]
  },
  {
   "cell_type": "code",
   "execution_count": 5,
   "id": "32a7fcba-ed34-4a4c-9cd4-fd32b9d98df3",
   "metadata": {},
   "outputs": [
    {
     "data": {
      "text/plain": [
       "'I did talk with them a yesterday'"
      ]
     },
     "execution_count": 5,
     "metadata": {},
     "output_type": "execute_result"
    }
   ],
   "source": [
    "hke.transform(\"I talked with them yesterday\")"
   ]
  },
  {
   "cell_type": "code",
   "execution_count": 6,
   "id": "e56e66ac-14d6-4b33-92c5-c36b03c12fcb",
   "metadata": {},
   "outputs": [
    {
     "data": {
      "text/plain": [
       "<module 'src.Dialects' from '/scratch/afz225/nlp702project/multi-value/src/Dialects.py'>"
      ]
     },
     "execution_count": 6,
     "metadata": {},
     "output_type": "execute_result"
    }
   ],
   "source": [
    "value"
   ]
  },
  {
   "cell_type": "code",
   "execution_count": 14,
   "id": "12e7f30c-bbfe-4e74-a077-45229813c05e",
   "metadata": {},
   "outputs": [
    {
     "data": {
      "text/plain": [
       "{(2, 7): {'value': 'talk', 'type': 'bare_past_tense', 'token_alignment': {}},\n",
       " (9, 13): {'value': '', 'type': 'null_prepositions', 'token_alignment': {}},\n",
       " (0, 0): {'value': 'I one', 'type': 'one_relativizer', 'token_alignment': {}}}"
      ]
     },
     "execution_count": 14,
     "metadata": {},
     "output_type": "execute_result"
    }
   ],
   "source": [
    "hke.executed_rules"
   ]
  },
  {
   "cell_type": "code",
   "execution_count": null,
   "id": "ad4a7a62-749d-4985-8d6d-815c02e51785",
   "metadata": {},
   "outputs": [],
   "source": []
  }
 ],
 "metadata": {
  "kernelspec": {
   "display_name": "py3.6",
   "language": "python",
   "name": "py3.6"
  },
  "language_info": {
   "codemirror_mode": {
    "name": "ipython",
    "version": 3
   },
   "file_extension": ".py",
   "mimetype": "text/x-python",
   "name": "python",
   "nbconvert_exporter": "python",
   "pygments_lexer": "ipython3",
   "version": "3.6.9"
  }
 },
 "nbformat": 4,
 "nbformat_minor": 5
}
